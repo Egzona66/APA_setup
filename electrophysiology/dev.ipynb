{
 "cells": [
  {
   "cell_type": "code",
   "execution_count": null,
   "metadata": {},
   "outputs": [],
   "source": [
    "# imports\n",
    "import sys\n",
    "import matplotlib.pyplot as plt\n",
    "from pathlib import Path\n",
    "import numpy as np\n",
    "import pandas as pd\n",
    "import os\n",
    "from scipy.stats import sem\n",
    "\n",
    "from fcutils.maths.signals import get_onset_offset\n",
    "from fcutils.plot.elements import plot_mean_and_error\n",
    "from fcutils.maths import rolling_mean\n",
    "\n",
    "sys.path.append(\"./\")\n",
    "\n",
    "fld = Path(os.getcwd()).parent\n",
    "sys.path.append(str(fld))\n",
    "\n",
    "\n",
    "from electrophysiology.utils import load_rec_data, get_locomotion_onset_times\n",
    "\n",
    "# cache = Path(r\"/Volumes/EGZONA/Egzona/Forceplate/neuropixels\")\n",
    "cache = Path(\"/Users/federicoclaudi/Desktop/neuropixels\")\n",
    "\n",
    "# cache = Path(\"/Users/federicoclaudi/Desktop/APA\")\n",
    "tracking_files = cache.glob(\"*.parquet\")\n",
    "recordings = [f.stem for f in tracking_files]\n",
    "len(recordings)\n",
    "\n"
   ]
  },
  {
   "cell_type": "markdown",
   "metadata": {},
   "source": [
    "## Get for each recordings all the time the mouse goes from stationary to moving"
   ]
  },
  {
   "cell_type": "code",
   "execution_count": null,
   "metadata": {},
   "outputs": [],
   "source": [
    "tracking, units = load_rec_data(cache, recordings[16])\n",
    "\n",
    "right_fl_onsets = get_locomotion_onset_times(tracking, \"right_fl\", cutoff=1500)\n",
    "left_fl_onsets = get_locomotion_onset_times(tracking, \"left_fl\", cutoff=1500)\n",
    "\n",
    "print(f\"Number of onsets: {len(right_fl_onsets)} right - {len(left_fl_onsets)} left\")\n",
    "\n",
    "\n",
    "# set font size\n",
    "plt.rcParams.update({\"font.size\": 14})\n",
    "\n",
    "f, ax = plt.subplots(1, 1, figsize=(12, 8))\n",
    "\n",
    "from analysis.fixtures import dark_colors\n",
    "\n",
    "for paw, timepoints, v , sign in zip((\"fr\", \"fl\"), (right_fl_onsets, left_fl_onsets), (tracking.right_fl_v, tracking.left_fl_v), (1, -1)):\n",
    "    traces = []\n",
    "    for i, frame in enumerate(timepoints):\n",
    "        trace = v.values[frame-1500:frame+1500]\n",
    "        traces.append(trace)\n",
    "        ax.plot(trace, color = dark_colors[paw], alpha=.25)\n",
    "        # ax.plot(-1 * tracking.left_fl_v.values[frame-1500:frame+1500], color = \"red\", alpha=.25)\n",
    "        # ax.plot(-1 * tracking.right_fl_v[frame-1500:frame+1500].values, color = \"red\", alpha=.25)\n",
    "    # break\n",
    "    ax.plot(np.mean(traces, axis=0), label=paw, lw=4)\n",
    "    # break\n",
    "\n",
    "\n",
    "ax.legend()\n",
    "ax.axvline(1500, color=\"k\")\n",
    "_ = ax.set(xlabel=\"Time (ms)\", ylabel=\"speed (cm/s)\")"
   ]
  },
  {
   "cell_type": "code",
   "execution_count": null,
   "metadata": {},
   "outputs": [],
   "source": [
    "from fcutils.plot.figure import calc_nrows_ncols\n",
    "\n",
    "figsize = (30, 18)\n",
    "units_names = units.columns\n",
    "nrows, ncols = calc_nrows_ncols(len(units_names), aspect=(24, 18))\n",
    "f, axes = plt.subplots(nrows, ncols, figsize=figsize, sharex=True, sharey=False)\n",
    "axes = axes.flatten()\n",
    "\n",
    "DeltaT = 2000 # time before/after frame\n",
    "BaselineDuration = 2000 # number of samples going into baseline evaluation\n",
    "\n",
    "\n",
    "units_traces = {}\n",
    "for i, (name, ax) in enumerate(zip(units_names, axes)):\n",
    "    ax.axvline(DeltaT, lw=2, color=\"r\")\n",
    "    baselines = []\n",
    "    alltraces = []\n",
    "    for paw, timepoints, color in zip((\"fr\", \"fl\"), (right_fl_onsets, left_fl_onsets), \"rg\"):\n",
    "        traces = []\n",
    "        for frame in timepoints:\n",
    "            trace = units[name].values[frame-DeltaT:frame+DeltaT]\n",
    "            baseline = units[name].values[frame-BaselineDuration-1000:frame-1000]\n",
    "\n",
    "            if len(trace) < 4000:\n",
    "                continue\n",
    "            traces.append(trace)\n",
    "            baselines.append(baseline)\n",
    "            # ax.plot(trace, color = dark_colors[paw], alpha=.25) \n",
    "            \n",
    "\n",
    "        alltraces.extend(traces)\n",
    "        # plot_mean_and_error(np.mean(traces, axis=0), sem(traces, axis=0), ax, lw=2, label=paw if i == 0 else None, color=color, err_alpha=.15)\n",
    "    \n",
    "    plot_mean_and_error(\n",
    "            np.mean(alltraces, axis=0), \n",
    "            sem(alltraces, axis=0), \n",
    "            ax, lw=2, label=\"all\" if i == 0 else None, color='blue', err_alpha=.15)\n",
    "    # ax.set(ylim=[np.percentile(alltraces, 10), np.percentile(alltraces, 90)])\n",
    "\n",
    "    # baselines = np.hstack(baseline)\n",
    "    # mu = np.mean(baselines)\n",
    "    # sigma = np.std(baselines)\n",
    "    # plot_mean_and_error(np.repeat(mu, 2*DeltaT), np.repeat(sigma, 2*DeltaT), ax, lw=2, color=\"black\", err_alpha=.15)\n",
    "    units_traces[name] = alltraces\n",
    "\n",
    "axes[0].legend()\n",
    "_ = axes[0].set(xlabel=\"Time (ms)\", ylabel=\"Firing rate (Hz)\")"
   ]
  },
  {
   "cell_type": "code",
   "execution_count": null,
   "metadata": {},
   "outputs": [],
   "source": [
    "# np.vstack([np.vstack(u) for u in units_traces.values()]).shape\n"
   ]
  }
 ],
 "metadata": {
  "kernelspec": {
   "display_name": "Python 3.8.13 ('apa')",
   "language": "python",
   "name": "python3"
  },
  "language_info": {
   "codemirror_mode": {
    "name": "ipython",
    "version": 3
   },
   "file_extension": ".py",
   "mimetype": "text/x-python",
   "name": "python",
   "nbconvert_exporter": "python",
   "pygments_lexer": "ipython3",
   "version": "3.8.13"
  },
  "orig_nbformat": 4,
  "vscode": {
   "interpreter": {
    "hash": "bb7635acb14c4f9e37a3d032764c29cbfd4b943ab575788b2873fe2faf94422d"
   }
  }
 },
 "nbformat": 4,
 "nbformat_minor": 2
}
