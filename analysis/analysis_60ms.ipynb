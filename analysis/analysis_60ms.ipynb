{
 "cells": [
  {
   "cell_type": "markdown",
   "metadata": {},
   "source": [
    "# Estimate APA duration.\n",
    "\n",
    "Analysis aiming to show that the interesting part of APAs lasts 60ms\n",
    "\n",
    "To do this, we take the trace for the FR at each trial. \n",
    "We fit a 3-segment piece-wise linear curve to it.\n",
    "We look at the middle segment (corresponding to when the mouse lifts the paw) and it's extent in time. "
   ]
  },
  {
   "cell_type": "code",
   "execution_count": 64,
   "metadata": {},
   "outputs": [
    {
     "data": {
      "text/html": [
       "<pre style=\"white-space:pre;overflow-x:auto;line-height:normal;font-family:Menlo,'DejaVu Sans Mono',consolas,'Courier New',monospace\"><span style=\"color: #7fbfbf; text-decoration-color: #7fbfbf\">[12/17/22 23:02:00] </span><span style=\"color: #000080; text-decoration-color: #000080\">INFO    </span> Starting data pre-processing with trials file:                     <a href=\"file:///Users/federicoclaudi/Documents/github/APA_setup/analysis/process_data.py\" target=\"_blank\"><span style=\"color: #7f7f7f; text-decoration-color: #7f7f7f\">process_data.py</span></a><span style=\"color: #7f7f7f; text-decoration-color: #7f7f7f\">:</span><a href=\"file:///Users/federicoclaudi/Documents/github/APA_setup/analysis/process_data.py#123\" target=\"_blank\"><span style=\"color: #7f7f7f; text-decoration-color: #7f7f7f\">123</span></a>\n",
       "<span style=\"color: #7fbfbf; text-decoration-color: #7fbfbf\">                    </span>         <span style=\"color: #800080; text-decoration-color: #800080\">/Volumes/EGZONA/Egzona/Forceplate/</span><span style=\"color: #ff00ff; text-decoration-color: #ff00ff\">Analysis</span>                         <span style=\"color: #7f7f7f; text-decoration-color: #7f7f7f\">                   </span>\n",
       "<span style=\"color: #7fbfbf; text-decoration-color: #7fbfbf\">                    </span>         backup/100422_ALLtrials_CTRL-DTR_conditions.csv.                   <span style=\"color: #7f7f7f; text-decoration-color: #7f7f7f\">                   </span>\n",
       "</pre>\n"
      ],
      "text/plain": [
       "\u001b[2;36m[12/17/22 23:02:00]\u001b[0m\u001b[2;36m \u001b[0m\u001b[34mINFO    \u001b[0m Starting data pre-processing with trials file:                     \u001b]8;id=822132;file:///Users/federicoclaudi/Documents/github/APA_setup/analysis/process_data.py\u001b\\\u001b[2mprocess_data.py\u001b[0m\u001b]8;;\u001b\\\u001b[2m:\u001b[0m\u001b]8;id=169334;file:///Users/federicoclaudi/Documents/github/APA_setup/analysis/process_data.py#123\u001b\\\u001b[2m123\u001b[0m\u001b]8;;\u001b\\\n",
       "\u001b[2;36m                    \u001b[0m         \u001b[35m/Volumes/EGZONA/Egzona/Forceplate/\u001b[0m\u001b[95mAnalysis\u001b[0m                         \u001b[2m                   \u001b[0m\n",
       "\u001b[2;36m                    \u001b[0m         backup/100422_ALLtrials_CTRL-DTR_conditions.csv.                   \u001b[2m                   \u001b[0m\n"
      ]
     },
     "metadata": {},
     "output_type": "display_data"
    },
    {
     "data": {
      "text/html": [
       "<pre style=\"white-space:pre;overflow-x:auto;line-height:normal;font-family:Menlo,'DejaVu Sans Mono',consolas,'Courier New',monospace\"><span style=\"color: #7fbfbf; text-decoration-color: #7fbfbf\">                    </span><span style=\"color: #000080; text-decoration-color: #000080\">INFO    </span> Caliration file:                                                   <a href=\"file:///Users/federicoclaudi/Documents/github/APA_setup/analysis/process_data.py\" target=\"_blank\"><span style=\"color: #7f7f7f; text-decoration-color: #7f7f7f\">process_data.py</span></a><span style=\"color: #7f7f7f; text-decoration-color: #7f7f7f\">:</span><a href=\"file:///Users/federicoclaudi/Documents/github/APA_setup/analysis/process_data.py#126\" target=\"_blank\"><span style=\"color: #7f7f7f; text-decoration-color: #7f7f7f\">126</span></a>\n",
       "<span style=\"color: #7fbfbf; text-decoration-color: #7fbfbf\">                    </span>         <span style=\"color: #800080; text-decoration-color: #800080\">/Volumes/EGZONA/Egzona/Forceplate/</span><span style=\"color: #ff00ff; text-decoration-color: #ff00ff\">forceplatesensors_calibration4.c</span> <span style=\"color: #7f7f7f; text-decoration-color: #7f7f7f\">                   </span>\n",
       "<span style=\"color: #7fbfbf; text-decoration-color: #7fbfbf\">                    </span>         <span style=\"color: #ff00ff; text-decoration-color: #ff00ff\">sv.</span>                                                                <span style=\"color: #7f7f7f; text-decoration-color: #7f7f7f\">                   </span>\n",
       "</pre>\n"
      ],
      "text/plain": [
       "\u001b[2;36m                   \u001b[0m\u001b[2;36m \u001b[0m\u001b[34mINFO    \u001b[0m Caliration file:                                                   \u001b]8;id=696976;file:///Users/federicoclaudi/Documents/github/APA_setup/analysis/process_data.py\u001b\\\u001b[2mprocess_data.py\u001b[0m\u001b]8;;\u001b\\\u001b[2m:\u001b[0m\u001b]8;id=229594;file:///Users/federicoclaudi/Documents/github/APA_setup/analysis/process_data.py#126\u001b\\\u001b[2m126\u001b[0m\u001b]8;;\u001b\\\n",
       "\u001b[2;36m                    \u001b[0m         \u001b[35m/Volumes/EGZONA/Egzona/Forceplate/\u001b[0m\u001b[95mforceplatesensors_calibration4.c\u001b[0m \u001b[2m                   \u001b[0m\n",
       "\u001b[2;36m                    \u001b[0m         \u001b[95msv.\u001b[0m                                                                \u001b[2m                   \u001b[0m\n"
      ]
     },
     "metadata": {},
     "output_type": "display_data"
    },
    {
     "data": {
      "text/html": [
       "<pre style=\"white-space:pre;overflow-x:auto;line-height:normal;font-family:Menlo,'DejaVu Sans Mono',consolas,'Courier New',monospace\"><span style=\"color: #7fbfbf; text-decoration-color: #7fbfbf\">                    </span><span style=\"color: #000080; text-decoration-color: #000080\">INFO    </span> Found <span style=\"color: #008080; text-decoration-color: #008080; font-weight: bold\">36</span> subfolders                                                 <a href=\"file:///Users/federicoclaudi/Documents/github/APA_setup/analysis/process_data.py\" target=\"_blank\"><span style=\"color: #7f7f7f; text-decoration-color: #7f7f7f\">process_data.py</span></a><span style=\"color: #7f7f7f; text-decoration-color: #7f7f7f\">:</span><a href=\"file:///Users/federicoclaudi/Documents/github/APA_setup/analysis/process_data.py#57\" target=\"_blank\"><span style=\"color: #7f7f7f; text-decoration-color: #7f7f7f\">57</span></a>\n",
       "</pre>\n"
      ],
      "text/plain": [
       "\u001b[2;36m                   \u001b[0m\u001b[2;36m \u001b[0m\u001b[34mINFO    \u001b[0m Found \u001b[1;36m36\u001b[0m subfolders                                                 \u001b]8;id=571787;file:///Users/federicoclaudi/Documents/github/APA_setup/analysis/process_data.py\u001b\\\u001b[2mprocess_data.py\u001b[0m\u001b]8;;\u001b\\\u001b[2m:\u001b[0m\u001b]8;id=2445;file:///Users/federicoclaudi/Documents/github/APA_setup/analysis/process_data.py#57\u001b\\\u001b[2m57\u001b[0m\u001b]8;;\u001b\\\n"
      ]
     },
     "metadata": {},
     "output_type": "display_data"
    },
    {
     "data": {
      "text/html": [
       "<pre style=\"white-space:pre;overflow-x:auto;line-height:normal;font-family:Menlo,'DejaVu Sans Mono',consolas,'Courier New',monospace\"><span style=\"color: #7fbfbf; text-decoration-color: #7fbfbf\">                    </span><span style=\"color: #008000; text-decoration-color: #008000\">DEBUG   </span> Setting previously stored params: <span style=\"font-weight: bold\">{</span><span style=\"color: #008000; text-decoration-color: #008000\">'DEBUG'</span>: <span style=\"color: #00ff00; text-decoration-color: #00ff00; font-style: italic\">True</span>, <span style=\"color: #008000; text-decoration-color: #008000\">'CONDITIONS'</span>:     <a href=\"file:///Users/federicoclaudi/Documents/github/APA_setup/analysis/process_data.py\" target=\"_blank\"><span style=\"color: #7f7f7f; text-decoration-color: #7f7f7f\">process_data.py</span></a><span style=\"color: #7f7f7f; text-decoration-color: #7f7f7f\">:</span><a href=\"file:///Users/federicoclaudi/Documents/github/APA_setup/analysis/process_data.py#93\" target=\"_blank\"><span style=\"color: #7f7f7f; text-decoration-color: #7f7f7f\">93</span></a>\n",
       "<span style=\"color: #7fbfbf; text-decoration-color: #7fbfbf\">                    </span>         <span style=\"font-weight: bold\">[</span><span style=\"color: #008000; text-decoration-color: #008000\">'WT'</span>, <span style=\"color: #008000; text-decoration-color: #008000\">'CTRL'</span>, <span style=\"color: #008000; text-decoration-color: #008000\">'DTR'</span>, <span style=\"color: #008000; text-decoration-color: #008000\">'CNO'</span><span style=\"font-weight: bold\">]</span>, <span style=\"color: #008000; text-decoration-color: #008000\">'STRAINS'</span>: <span style=\"font-weight: bold\">[</span><span style=\"color: #008000; text-decoration-color: #008000\">'C57'</span>, <span style=\"color: #008000; text-decoration-color: #008000\">'VGLUT'</span><span style=\"font-weight: bold\">]</span>,          <span style=\"color: #7f7f7f; text-decoration-color: #7f7f7f\">                  </span>\n",
       "<span style=\"color: #7fbfbf; text-decoration-color: #7fbfbf\">                    </span>         <span style=\"color: #008000; text-decoration-color: #008000\">'STANDING_STILL'</span>: <span style=\"color: #ff0000; text-decoration-color: #ff0000; font-style: italic\">False</span>, <span style=\"color: #008000; text-decoration-color: #008000\">'calibrate'</span>: <span style=\"color: #00ff00; text-decoration-color: #00ff00; font-style: italic\">True</span>, <span style=\"color: #008000; text-decoration-color: #008000\">'weight_percentage'</span>:    <span style=\"color: #7f7f7f; text-decoration-color: #7f7f7f\">                  </span>\n",
       "<span style=\"color: #7fbfbf; text-decoration-color: #7fbfbf\">                    </span>         <span style=\"color: #00ff00; text-decoration-color: #00ff00; font-style: italic\">True</span>, <span style=\"color: #008000; text-decoration-color: #008000\">'correct_for_paw'</span>: <span style=\"color: #00ff00; text-decoration-color: #00ff00; font-style: italic\">True</span>, <span style=\"color: #008000; text-decoration-color: #008000\">'frames_file'</span>:                       <span style=\"color: #7f7f7f; text-decoration-color: #7f7f7f\">                  </span>\n",
       "<span style=\"color: #7fbfbf; text-decoration-color: #7fbfbf\">                    </span>         <span style=\"color: #008000; text-decoration-color: #008000\">'/Volumes/EGZONA/Egzona/Forceplate/Analysis </span>                        <span style=\"color: #7f7f7f; text-decoration-color: #7f7f7f\">                  </span>\n",
       "<span style=\"color: #7fbfbf; text-decoration-color: #7fbfbf\">                    </span>         <span style=\"color: #008000; text-decoration-color: #008000\">backup/100422_ALLtrials_CTRL-DTR_conditions.csv'</span>,                   <span style=\"color: #7f7f7f; text-decoration-color: #7f7f7f\">                  </span>\n",
       "<span style=\"color: #7fbfbf; text-decoration-color: #7fbfbf\">                    </span>         <span style=\"color: #008000; text-decoration-color: #008000\">'calibration_file'</span>:                                                 <span style=\"color: #7f7f7f; text-decoration-color: #7f7f7f\">                  </span>\n",
       "<span style=\"color: #7fbfbf; text-decoration-color: #7fbfbf\">                    </span>         <span style=\"color: #008000; text-decoration-color: #008000\">'/Volumes/EGZONA/Egzona/Forceplate/forceplatesensors_calibration4.c</span> <span style=\"color: #7f7f7f; text-decoration-color: #7f7f7f\">                  </span>\n",
       "<span style=\"color: #7fbfbf; text-decoration-color: #7fbfbf\">                    </span>         <span style=\"color: #008000; text-decoration-color: #008000\">sv'</span>, <span style=\"color: #008000; text-decoration-color: #008000\">'main_fld'</span>: <span style=\"color: #008000; text-decoration-color: #008000\">'/Volumes/EGZONA/Egzona/Forceplate/CURRENT </span>        <span style=\"color: #7f7f7f; text-decoration-color: #7f7f7f\">                  </span>\n",
       "<span style=\"color: #7fbfbf; text-decoration-color: #7fbfbf\">                    </span>         <span style=\"color: #008000; text-decoration-color: #008000\">ANALYSIS TRIALS'</span>, <span style=\"color: #008000; text-decoration-color: #008000\">'fps'</span>: <span style=\"color: #008080; text-decoration-color: #008080; font-weight: bold\">600</span>, <span style=\"color: #008000; text-decoration-color: #008000\">'smoothing_window'</span>: <span style=\"color: #008080; text-decoration-color: #008080; font-weight: bold\">0.01</span>,             <span style=\"color: #7f7f7f; text-decoration-color: #7f7f7f\">                  </span>\n",
       "<span style=\"color: #7fbfbf; text-decoration-color: #7fbfbf\">                    </span>         <span style=\"color: #008000; text-decoration-color: #008000\">'on_sensor_weight_th'</span>: <span style=\"color: #008080; text-decoration-color: #008080; font-weight: bold\">2</span>, <span style=\"color: #008000; text-decoration-color: #008000\">'on_all_sensors_weight_th'</span>: <span style=\"color: #008080; text-decoration-color: #008080; font-weight: bold\">66</span>,           <span style=\"color: #7f7f7f; text-decoration-color: #7f7f7f\">                  </span>\n",
       "<span style=\"color: #7fbfbf; text-decoration-color: #7fbfbf\">                    </span>         <span style=\"color: #008000; text-decoration-color: #008000\">'n_secs_before'</span>: <span style=\"color: #008080; text-decoration-color: #008080; font-weight: bold\">0.2</span>, <span style=\"color: #008000; text-decoration-color: #008000\">'n_secs_after'</span>: <span style=\"color: #008080; text-decoration-color: #008080; font-weight: bold\">0.2</span>, <span style=\"color: #008000; text-decoration-color: #008000\">'min_baseline_duration'</span>: <span style=\"color: #7f7f7f; text-decoration-color: #7f7f7f\">                  </span>\n",
       "<span style=\"color: #7fbfbf; text-decoration-color: #7fbfbf\">                    </span>         <span style=\"color: #008080; text-decoration-color: #008080; font-weight: bold\">0</span>, <span style=\"color: #008000; text-decoration-color: #008000\">'trial_start_detection_window'</span>: <span style=\"color: #008080; text-decoration-color: #008080; font-weight: bold\">0.15</span>, <span style=\"color: #008000; text-decoration-color: #008000\">'plot_individual_trials'</span>:  <span style=\"color: #7f7f7f; text-decoration-color: #7f7f7f\">                  </span>\n",
       "<span style=\"color: #7fbfbf; text-decoration-color: #7fbfbf\">                    </span>         <span style=\"color: #ff0000; text-decoration-color: #ff0000; font-style: italic\">False</span><span style=\"font-weight: bold\">}</span>                                                              <span style=\"color: #7f7f7f; text-decoration-color: #7f7f7f\">                  </span>\n",
       "</pre>\n"
      ],
      "text/plain": [
       "\u001b[2;36m                   \u001b[0m\u001b[2;36m \u001b[0m\u001b[32mDEBUG   \u001b[0m Setting previously stored params: \u001b[1m{\u001b[0m\u001b[32m'DEBUG'\u001b[0m: \u001b[3;92mTrue\u001b[0m, \u001b[32m'CONDITIONS'\u001b[0m:     \u001b]8;id=154690;file:///Users/federicoclaudi/Documents/github/APA_setup/analysis/process_data.py\u001b\\\u001b[2mprocess_data.py\u001b[0m\u001b]8;;\u001b\\\u001b[2m:\u001b[0m\u001b]8;id=965565;file:///Users/federicoclaudi/Documents/github/APA_setup/analysis/process_data.py#93\u001b\\\u001b[2m93\u001b[0m\u001b]8;;\u001b\\\n",
       "\u001b[2;36m                    \u001b[0m         \u001b[1m[\u001b[0m\u001b[32m'WT'\u001b[0m, \u001b[32m'CTRL'\u001b[0m, \u001b[32m'DTR'\u001b[0m, \u001b[32m'CNO'\u001b[0m\u001b[1m]\u001b[0m, \u001b[32m'STRAINS'\u001b[0m: \u001b[1m[\u001b[0m\u001b[32m'C57'\u001b[0m, \u001b[32m'VGLUT'\u001b[0m\u001b[1m]\u001b[0m,          \u001b[2m                  \u001b[0m\n",
       "\u001b[2;36m                    \u001b[0m         \u001b[32m'STANDING_STILL'\u001b[0m: \u001b[3;91mFalse\u001b[0m, \u001b[32m'calibrate'\u001b[0m: \u001b[3;92mTrue\u001b[0m, \u001b[32m'weight_percentage'\u001b[0m:    \u001b[2m                  \u001b[0m\n",
       "\u001b[2;36m                    \u001b[0m         \u001b[3;92mTrue\u001b[0m, \u001b[32m'correct_for_paw'\u001b[0m: \u001b[3;92mTrue\u001b[0m, \u001b[32m'frames_file'\u001b[0m:                       \u001b[2m                  \u001b[0m\n",
       "\u001b[2;36m                    \u001b[0m         \u001b[32m'/Volumes/EGZONA/Egzona/Forceplate/Analysis \u001b[0m                        \u001b[2m                  \u001b[0m\n",
       "\u001b[2;36m                    \u001b[0m         \u001b[32mbackup/100422_ALLtrials_CTRL-DTR_conditions.csv'\u001b[0m,                   \u001b[2m                  \u001b[0m\n",
       "\u001b[2;36m                    \u001b[0m         \u001b[32m'calibration_file'\u001b[0m:                                                 \u001b[2m                  \u001b[0m\n",
       "\u001b[2;36m                    \u001b[0m         \u001b[32m'/Volumes/EGZONA/Egzona/Forceplate/forceplatesensors_calibration4.c\u001b[0m \u001b[2m                  \u001b[0m\n",
       "\u001b[2;36m                    \u001b[0m         \u001b[32msv'\u001b[0m, \u001b[32m'main_fld'\u001b[0m: \u001b[32m'/Volumes/EGZONA/Egzona/Forceplate/CURRENT \u001b[0m        \u001b[2m                  \u001b[0m\n",
       "\u001b[2;36m                    \u001b[0m         \u001b[32mANALYSIS TRIALS'\u001b[0m, \u001b[32m'fps'\u001b[0m: \u001b[1;36m600\u001b[0m, \u001b[32m'smoothing_window'\u001b[0m: \u001b[1;36m0.01\u001b[0m,             \u001b[2m                  \u001b[0m\n",
       "\u001b[2;36m                    \u001b[0m         \u001b[32m'on_sensor_weight_th'\u001b[0m: \u001b[1;36m2\u001b[0m, \u001b[32m'on_all_sensors_weight_th'\u001b[0m: \u001b[1;36m66\u001b[0m,           \u001b[2m                  \u001b[0m\n",
       "\u001b[2;36m                    \u001b[0m         \u001b[32m'n_secs_before'\u001b[0m: \u001b[1;36m0.2\u001b[0m, \u001b[32m'n_secs_after'\u001b[0m: \u001b[1;36m0.2\u001b[0m, \u001b[32m'min_baseline_duration'\u001b[0m: \u001b[2m                  \u001b[0m\n",
       "\u001b[2;36m                    \u001b[0m         \u001b[1;36m0\u001b[0m, \u001b[32m'trial_start_detection_window'\u001b[0m: \u001b[1;36m0.15\u001b[0m, \u001b[32m'plot_individual_trials'\u001b[0m:  \u001b[2m                  \u001b[0m\n",
       "\u001b[2;36m                    \u001b[0m         \u001b[3;91mFalse\u001b[0m\u001b[1m}\u001b[0m                                                              \u001b[2m                  \u001b[0m\n"
      ]
     },
     "metadata": {},
     "output_type": "display_data"
    },
    {
     "data": {
      "text/html": [
       "<pre style=\"white-space:pre;overflow-x:auto;line-height:normal;font-family:Menlo,'DejaVu Sans Mono',consolas,'Courier New',monospace\"><span style=\"color: #7fbfbf; text-decoration-color: #7fbfbf\">                    </span><span style=\"color: #000080; text-decoration-color: #000080\">INFO    </span> Starting data pre-processing with trials file:                     <a href=\"file:///Users/federicoclaudi/Documents/github/APA_setup/analysis/process_data.py\" target=\"_blank\"><span style=\"color: #7f7f7f; text-decoration-color: #7f7f7f\">process_data.py</span></a><span style=\"color: #7f7f7f; text-decoration-color: #7f7f7f\">:</span><a href=\"file:///Users/federicoclaudi/Documents/github/APA_setup/analysis/process_data.py#123\" target=\"_blank\"><span style=\"color: #7f7f7f; text-decoration-color: #7f7f7f\">123</span></a>\n",
       "<span style=\"color: #7fbfbf; text-decoration-color: #7fbfbf\">                    </span>         <span style=\"color: #800080; text-decoration-color: #800080\">/Volumes/EGZONA/Egzona/Forceplate/</span><span style=\"color: #ff00ff; text-decoration-color: #ff00ff\">Analysis</span>                         <span style=\"color: #7f7f7f; text-decoration-color: #7f7f7f\">                   </span>\n",
       "<span style=\"color: #7fbfbf; text-decoration-color: #7fbfbf\">                    </span>         backup/100422_ALLtrials_CTRL-DTR_conditions.csv.                   <span style=\"color: #7f7f7f; text-decoration-color: #7f7f7f\">                   </span>\n",
       "</pre>\n"
      ],
      "text/plain": [
       "\u001b[2;36m                   \u001b[0m\u001b[2;36m \u001b[0m\u001b[34mINFO    \u001b[0m Starting data pre-processing with trials file:                     \u001b]8;id=909265;file:///Users/federicoclaudi/Documents/github/APA_setup/analysis/process_data.py\u001b\\\u001b[2mprocess_data.py\u001b[0m\u001b]8;;\u001b\\\u001b[2m:\u001b[0m\u001b]8;id=304613;file:///Users/federicoclaudi/Documents/github/APA_setup/analysis/process_data.py#123\u001b\\\u001b[2m123\u001b[0m\u001b]8;;\u001b\\\n",
       "\u001b[2;36m                    \u001b[0m         \u001b[35m/Volumes/EGZONA/Egzona/Forceplate/\u001b[0m\u001b[95mAnalysis\u001b[0m                         \u001b[2m                   \u001b[0m\n",
       "\u001b[2;36m                    \u001b[0m         backup/100422_ALLtrials_CTRL-DTR_conditions.csv.                   \u001b[2m                   \u001b[0m\n"
      ]
     },
     "metadata": {},
     "output_type": "display_data"
    },
    {
     "data": {
      "text/html": [
       "<pre style=\"white-space:pre;overflow-x:auto;line-height:normal;font-family:Menlo,'DejaVu Sans Mono',consolas,'Courier New',monospace\"><span style=\"color: #7fbfbf; text-decoration-color: #7fbfbf\">                    </span><span style=\"color: #000080; text-decoration-color: #000080\">INFO    </span> Caliration file:                                                   <a href=\"file:///Users/federicoclaudi/Documents/github/APA_setup/analysis/process_data.py\" target=\"_blank\"><span style=\"color: #7f7f7f; text-decoration-color: #7f7f7f\">process_data.py</span></a><span style=\"color: #7f7f7f; text-decoration-color: #7f7f7f\">:</span><a href=\"file:///Users/federicoclaudi/Documents/github/APA_setup/analysis/process_data.py#126\" target=\"_blank\"><span style=\"color: #7f7f7f; text-decoration-color: #7f7f7f\">126</span></a>\n",
       "<span style=\"color: #7fbfbf; text-decoration-color: #7fbfbf\">                    </span>         <span style=\"color: #800080; text-decoration-color: #800080\">/Volumes/EGZONA/Egzona/Forceplate/</span><span style=\"color: #ff00ff; text-decoration-color: #ff00ff\">forceplatesensors_calibration4.c</span> <span style=\"color: #7f7f7f; text-decoration-color: #7f7f7f\">                   </span>\n",
       "<span style=\"color: #7fbfbf; text-decoration-color: #7fbfbf\">                    </span>         <span style=\"color: #ff00ff; text-decoration-color: #ff00ff\">sv.</span>                                                                <span style=\"color: #7f7f7f; text-decoration-color: #7f7f7f\">                   </span>\n",
       "</pre>\n"
      ],
      "text/plain": [
       "\u001b[2;36m                   \u001b[0m\u001b[2;36m \u001b[0m\u001b[34mINFO    \u001b[0m Caliration file:                                                   \u001b]8;id=485146;file:///Users/federicoclaudi/Documents/github/APA_setup/analysis/process_data.py\u001b\\\u001b[2mprocess_data.py\u001b[0m\u001b]8;;\u001b\\\u001b[2m:\u001b[0m\u001b]8;id=665326;file:///Users/federicoclaudi/Documents/github/APA_setup/analysis/process_data.py#126\u001b\\\u001b[2m126\u001b[0m\u001b]8;;\u001b\\\n",
       "\u001b[2;36m                    \u001b[0m         \u001b[35m/Volumes/EGZONA/Egzona/Forceplate/\u001b[0m\u001b[95mforceplatesensors_calibration4.c\u001b[0m \u001b[2m                   \u001b[0m\n",
       "\u001b[2;36m                    \u001b[0m         \u001b[95msv.\u001b[0m                                                                \u001b[2m                   \u001b[0m\n"
      ]
     },
     "metadata": {},
     "output_type": "display_data"
    },
    {
     "data": {
      "text/html": [
       "<pre style=\"white-space:pre;overflow-x:auto;line-height:normal;font-family:Menlo,'DejaVu Sans Mono',consolas,'Courier New',monospace\"><span style=\"color: #7fbfbf; text-decoration-color: #7fbfbf\">                    </span><span style=\"color: #000080; text-decoration-color: #000080\">INFO    </span> Loading previously saved data from:                                 <a href=\"file:///Users/federicoclaudi/Documents/github/APA_setup/analysis/process_data.py\" target=\"_blank\"><span style=\"color: #7f7f7f; text-decoration-color: #7f7f7f\">process_data.py</span></a><span style=\"color: #7f7f7f; text-decoration-color: #7f7f7f\">:</span><a href=\"file:///Users/federicoclaudi/Documents/github/APA_setup/analysis/process_data.py#98\" target=\"_blank\"><span style=\"color: #7f7f7f; text-decoration-color: #7f7f7f\">98</span></a>\n",
       "<span style=\"color: #7fbfbf; text-decoration-color: #7fbfbf\">                    </span>         <span style=\"color: #800080; text-decoration-color: #800080\">/Volumes/EGZONA/Egzona/Forceplate/</span><span style=\"color: #ff00ff; text-decoration-color: #ff00ff\">CURRENT</span> ANALYSIS TRIALS/data.h5   <span style=\"color: #7f7f7f; text-decoration-color: #7f7f7f\">                  </span>\n",
       "</pre>\n"
      ],
      "text/plain": [
       "\u001b[2;36m                   \u001b[0m\u001b[2;36m \u001b[0m\u001b[34mINFO    \u001b[0m Loading previously saved data from:                                 \u001b]8;id=72333;file:///Users/federicoclaudi/Documents/github/APA_setup/analysis/process_data.py\u001b\\\u001b[2mprocess_data.py\u001b[0m\u001b]8;;\u001b\\\u001b[2m:\u001b[0m\u001b]8;id=352758;file:///Users/federicoclaudi/Documents/github/APA_setup/analysis/process_data.py#98\u001b\\\u001b[2m98\u001b[0m\u001b]8;;\u001b\\\n",
       "\u001b[2;36m                    \u001b[0m         \u001b[35m/Volumes/EGZONA/Egzona/Forceplate/\u001b[0m\u001b[95mCURRENT\u001b[0m ANALYSIS TRIALS/data.h5   \u001b[2m                  \u001b[0m\n"
      ]
     },
     "metadata": {},
     "output_type": "display_data"
    },
    {
     "data": {
      "text/html": [
       "<pre style=\"white-space:pre;overflow-x:auto;line-height:normal;font-family:Menlo,'DejaVu Sans Mono',consolas,'Courier New',monospace\"><span style=\"color: #7fbfbf; text-decoration-color: #7fbfbf\">                    </span><span style=\"color: #000080; text-decoration-color: #000080\">INFO    </span> Loaded <span style=\"color: #008080; text-decoration-color: #008080; font-weight: bold\">91</span> trials -----                                             <a href=\"file:///Users/federicoclaudi/Documents/github/APA_setup/analysis/process_data.py\" target=\"_blank\"><span style=\"color: #7f7f7f; text-decoration-color: #7f7f7f\">process_data.py</span></a><span style=\"color: #7f7f7f; text-decoration-color: #7f7f7f\">:</span><a href=\"file:///Users/federicoclaudi/Documents/github/APA_setup/analysis/process_data.py#105\" target=\"_blank\"><span style=\"color: #7f7f7f; text-decoration-color: #7f7f7f\">105</span></a>\n",
       "<span style=\"color: #7fbfbf; text-decoration-color: #7fbfbf\">                    </span>                                                                            <span style=\"color: #7f7f7f; text-decoration-color: #7f7f7f\">                   </span>\n",
       "<span style=\"color: #7fbfbf; text-decoration-color: #7fbfbf\">                    </span>                                                                            <span style=\"color: #7f7f7f; text-decoration-color: #7f7f7f\">                   </span>\n",
       "</pre>\n"
      ],
      "text/plain": [
       "\u001b[2;36m                   \u001b[0m\u001b[2;36m \u001b[0m\u001b[34mINFO    \u001b[0m Loaded \u001b[1;36m91\u001b[0m trials -----                                             \u001b]8;id=761373;file:///Users/federicoclaudi/Documents/github/APA_setup/analysis/process_data.py\u001b\\\u001b[2mprocess_data.py\u001b[0m\u001b]8;;\u001b\\\u001b[2m:\u001b[0m\u001b]8;id=904488;file:///Users/federicoclaudi/Documents/github/APA_setup/analysis/process_data.py#105\u001b\\\u001b[2m105\u001b[0m\u001b]8;;\u001b\\\n",
       "\u001b[2;36m                    \u001b[0m                                                                            \u001b[2m                   \u001b[0m\n",
       "\u001b[2;36m                    \u001b[0m                                                                            \u001b[2m                   \u001b[0m\n"
      ]
     },
     "metadata": {},
     "output_type": "display_data"
    }
   ],
   "source": [
    "import sys\n",
    "import matplotlib.pyplot as plt\n",
    "from scipy.stats import ttest_ind as ttest\n",
    "import pandas as pd\n",
    "from sklearn.preprocessing import StandardScaler\n",
    "\n",
    "\n",
    "import numpy as np\n",
    "import os\n",
    "from sklearn.decomposition import PCA\n",
    "from mpl_toolkits import mplot3d\n",
    "\n",
    "# basepath = r\"C:\\Users\\Federico\\Documents\\GitHub\\APA_setup\"\n",
    "basepath = \"/Users/federicoclaudi/Documents/github/APA_setup\"\n",
    "os.chdir(basepath)\n",
    "\n",
    "sys.path.append(\"./\")\n",
    "sys.path.append(basepath)\n",
    "sys.path.append(os.path.join(basepath, \"analysis\"))\n",
    "\n",
    "\n",
    "from fcutils.plot.distributions import plot_kde\n",
    "from fcutils.plot.figure import clean_axes\n",
    "from analysis.process_data import DataProcessing\n",
    "from analysis.fixtures import colors, sensors\n",
    "from myterial import indigo, blue_grey_dark, salmon, cyan_dark\n",
    "\n",
    "data = DataProcessing.reload()\n",
    "\n"
   ]
  },
  {
   "cell_type": "code",
   "execution_count": 65,
   "metadata": {},
   "outputs": [
    {
     "data": {
      "text/html": [
       "<pre style=\"white-space:pre;overflow-x:auto;line-height:normal;font-family:Menlo,'DejaVu Sans Mono',consolas,'Courier New',monospace\"><span style=\"color: #800080; text-decoration-color: #800080; font-weight: bold\">array</span><span style=\"font-weight: bold\">([</span><span style=\"color: #008000; text-decoration-color: #008000\">'WT'</span>, <span style=\"color: #008000; text-decoration-color: #008000\">'DTR'</span><span style=\"font-weight: bold\">]</span>, <span style=\"color: #808000; text-decoration-color: #808000\">dtype</span>=<span style=\"color: #800080; text-decoration-color: #800080\">object</span><span style=\"font-weight: bold\">)</span>\n",
       "</pre>\n"
      ],
      "text/plain": [
       "\u001b[1;35marray\u001b[0m\u001b[1m(\u001b[0m\u001b[1m[\u001b[0m\u001b[32m'WT'\u001b[0m, \u001b[32m'DTR'\u001b[0m\u001b[1m]\u001b[0m, \u001b[33mdtype\u001b[0m=\u001b[35mobject\u001b[0m\u001b[1m)\u001b[0m\n"
      ]
     },
     "metadata": {},
     "output_type": "display_data"
    }
   ],
   "source": [
    "data.data.strain.unique()\n",
    "data.data.condition.unique()"
   ]
  },
  {
   "cell_type": "markdown",
   "metadata": {},
   "source": [
    "select trials by strain/condition"
   ]
  },
  {
   "cell_type": "code",
   "execution_count": 66,
   "metadata": {},
   "outputs": [
    {
     "name": "stdout",
     "output_type": "stream",
     "text": [
      "0\n"
     ]
    },
    {
     "data": {
      "text/html": [
       "<div>\n",
       "<style scoped>\n",
       "    .dataframe tbody tr th:only-of-type {\n",
       "        vertical-align: middle;\n",
       "    }\n",
       "\n",
       "    .dataframe tbody tr th {\n",
       "        vertical-align: top;\n",
       "    }\n",
       "\n",
       "    .dataframe thead th {\n",
       "        text-align: right;\n",
       "    }\n",
       "</style>\n",
       "<table border=\"1\" class=\"dataframe\">\n",
       "  <thead>\n",
       "    <tr style=\"text-align: right;\">\n",
       "      <th></th>\n",
       "      <th>index</th>\n",
       "      <th>name</th>\n",
       "      <th>fr</th>\n",
       "      <th>fl</th>\n",
       "      <th>hr</th>\n",
       "      <th>hl</th>\n",
       "      <th>CoG</th>\n",
       "      <th>CoG_centered</th>\n",
       "      <th>condition</th>\n",
       "      <th>strain</th>\n",
       "      <th>tot_weight</th>\n",
       "      <th>on_sensors</th>\n",
       "      <th>movement_onset_frame</th>\n",
       "      <th>video</th>\n",
       "      <th>original_fps</th>\n",
       "      <th>paw</th>\n",
       "    </tr>\n",
       "  </thead>\n",
       "  <tbody>\n",
       "  </tbody>\n",
       "</table>\n",
       "</div>"
      ]
     },
     "execution_count": 66,
     "metadata": {},
     "output_type": "execute_result"
    }
   ],
   "source": [
    "CONDITION = \"CTRL\"\n",
    "STRAIN = \"C57\"\n",
    "\n",
    "if STRAIN is not None:\n",
    "    data = data.data.loc[(data.data.condition == CONDITION)&(data.data.strain == STRAIN)].reset_index()\n",
    "else:\n",
    "    data = data.data.loc[(data.data.condition == CONDITION)].reset_index()\n",
    "    STRAIN = \"any\"\n",
    "print(len(data))\n",
    "\n",
    "data\n"
   ]
  },
  {
   "cell_type": "code",
   "execution_count": 67,
   "metadata": {},
   "outputs": [],
   "source": [
    "def get_traces(condition_trials:pd.DataFrame, t0=85, t1=140, subtractbl=True)->np.ndarray:\n",
    "    \"\"\"\n",
    "        Get traces for all trials in a condition between the\n",
    "        two reference frames. Returns an array of shape (4, n_frames, n_trials).\n",
    "    \"\"\"\n",
    "    traces = np.zeros((4, t1 - t0, len(condition_trials)))\n",
    "\n",
    "    for i, trial in condition_trials.iterrows():\n",
    "        for n, paw in enumerate(sensors):\n",
    "            bl = np.mean(trial[paw][0:85]) if subtractbl else 0\n",
    "            traces[n, :, i] = trial[paw][t0:t1] -  bl  # remove baseline\n",
    "\n",
    "    return traces\n",
    "\n"
   ]
  },
  {
   "cell_type": "code",
   "execution_count": 68,
   "metadata": {},
   "outputs": [],
   "source": [
    "\n",
    "# frames ranges for cutting traces\n",
    "trial_start_frame = 0\n",
    "trial_end_frame = 239\n",
    "APA_start_frame = 85\n",
    "\n",
    "wt_traces_complete = get_traces(data, t0=trial_start_frame, t1=trial_end_frame, subtractbl=False)\n",
    "\n",
    "time_frames = np.arange(trial_start_frame - 120, trial_end_frame - 120, 1)\n"
   ]
  },
  {
   "cell_type": "code",
   "execution_count": 69,
   "metadata": {},
   "outputs": [],
   "source": [
    "from scipy import optimize\n",
    "\n",
    "\n",
    "def ms2frame(ms):\n",
    "    return int(ms / 1000 * 600)\n",
    "\n",
    "def frame2ms(frame):\n",
    "    return frame / 600 * 1000\n",
    "\n",
    "def segments_fit(X, Y, count):\n",
    "    \"\"\"\n",
    "        from https://gist.github.com/ruoyu0088/70effade57483355bbd18b31dc370f2a\n",
    "    \"\"\"\n",
    "    xmin = X.min()\n",
    "    xmax = X.max()\n",
    "\n",
    "    seg = np.full(count - 1, (xmax - xmin) / count)\n",
    "\n",
    "    px_init = np.r_[np.r_[xmin, seg].cumsum(), xmax]\n",
    "    py_init = np.array([Y[np.abs(X - x) < (xmax - xmin) * 0.01].mean() for x in px_init])\n",
    "\n",
    "    def func(p):\n",
    "        seg = p[:count - 1]\n",
    "        py = p[count - 1:]\n",
    "        px = np.r_[np.r_[xmin, seg].cumsum(), xmax]\n",
    "        return px, py\n",
    "\n",
    "    def err(p):\n",
    "        px, py = func(p)\n",
    "        Y2 = np.interp(X, px, py)\n",
    "        return np.mean((Y - Y2)**2)\n",
    "\n",
    "    r = optimize.minimize(err, x0=np.r_[seg, py_init], method='Nelder-Mead')\n",
    "    return func(r.x)\n"
   ]
  },
  {
   "cell_type": "code",
   "execution_count": 70,
   "metadata": {},
   "outputs": [],
   "source": [
    "# set font size for labels in matplotlib\n",
    "plt.rcParams.update({'font.size': 14})"
   ]
  },
  {
   "cell_type": "code",
   "execution_count": 71,
   "metadata": {},
   "outputs": [
    {
     "name": "stderr",
     "output_type": "stream",
     "text": [
      "No artists with labels found to put in legend.  Note that artists whose label start with an underscore are ignored when legend() is called with no argument.\n"
     ]
    },
    {
     "data": {
      "image/png": "[encoded data removed]"
     },
     "metadata": {
      "needs_background": "light"
     },
     "output_type": "display_data"
    }
   ],
   "source": [
    "f, ax = plt.subplots(figsize=(10, 10),)\n",
    "\n",
    "\n",
    "durations = []\n",
    "for n, trial in enumerate(range(wt_traces_complete.shape[-1])):\n",
    "    y = wt_traces_complete[1, :, trial]\n",
    "    \n",
    "    # scale y between 0, 1\n",
    "    y = (y - y.min()) / (y.max() - y.min())\n",
    "    \n",
    "\n",
    "    # fit a piece-wise linear curve\n",
    "    px, py = segments_fit(time_frames, y, 3)\n",
    "    dur = px[2] - px[1]\n",
    "    # if n == 0:\n",
    "    if dur > 120:\n",
    "        ax.plot(time_frames, y, color=[.3, .3, .3], lw=2, alpha=1, label=\"data\")\n",
    "        ax.plot(px, py, color=indigo, alpha=1, lw=6, label=\"fit\")\n",
    "        ax.scatter(px, py, s=250, lw=4, ec=indigo, fc=\"white\", zorder=100)\n",
    "    durations.append(dur)\n",
    "\n",
    "    # break\n",
    "\n",
    "\n",
    "from pathlib import Path\n",
    "savepath = Path(r\"/Volumes/EGZONA/Egzona/Thesis_Paper_Figures\")\n",
    "\n",
    "# save figure at savepath\n",
    "ax.legend()\n",
    "ax.set(xlabel=\"Time (frames)\", ylabel=\"Body weight (norm.)\")\n",
    "clean_axes(f)\n",
    "f.savefig(savepath / f\"apa_duration_piecewisefit_example_condition_{CONDITION}_strain_{STRAIN}.svg\", dpi=300)\n"
   ]
  },
  {
   "cell_type": "markdown",
   "metadata": {},
   "source": [
    "### plot durations"
   ]
  },
  {
   "cell_type": "code",
   "execution_count": 72,
   "metadata": {},
   "outputs": [
    {
     "ename": "IndexError",
     "evalue": "cannot do a non-empty take from an empty axes.",
     "output_type": "error",
     "traceback": [
      "\u001b[0;31m---------------------------------------------------------------------------\u001b[0m",
      "\u001b[0;31mIndexError\u001b[0m                                Traceback (most recent call last)",
      "Cell \u001b[0;32mIn [72], line 6\u001b[0m\n\u001b[1;32m      2\u001b[0m f, ax \u001b[39m=\u001b[39m plt\u001b[39m.\u001b[39msubplots(figsize\u001b[39m=\u001b[39m(\u001b[39m16\u001b[39m, \u001b[39m9\u001b[39m))\n\u001b[1;32m      4\u001b[0m durations_ms \u001b[39m=\u001b[39m [frame2ms(d) \u001b[39mfor\u001b[39;00m d \u001b[39min\u001b[39;00m durations]\n\u001b[0;32m----> 6\u001b[0m low, high \u001b[39m=\u001b[39m np\u001b[39m.\u001b[39;49mpercentile(durations_ms, [\u001b[39m5\u001b[39;49m, \u001b[39m95\u001b[39;49m])\n\u001b[1;32m      7\u001b[0m \u001b[39mprint\u001b[39m(\u001b[39mf\u001b[39m\u001b[39m\"\u001b[39m\u001b[39mlow \u001b[39m\u001b[39m{\u001b[39;00mlow\u001b[39m:\u001b[39;00m\u001b[39m.3f\u001b[39m\u001b[39m}\u001b[39;00m\u001b[39m ms high \u001b[39m\u001b[39m{\u001b[39;00mhigh\u001b[39m:\u001b[39;00m\u001b[39m.3f\u001b[39m\u001b[39m}\u001b[39;00m\u001b[39m ms, mean \u001b[39m\u001b[39m{\u001b[39;00mnp\u001b[39m.\u001b[39mmean(durations_ms)\u001b[39m:\u001b[39;00m\u001b[39m.3f\u001b[39m\u001b[39m}\u001b[39;00m\u001b[39m ms, median \u001b[39m\u001b[39m{\u001b[39;00mnp\u001b[39m.\u001b[39mmedian(durations_ms)\u001b[39m:\u001b[39;00m\u001b[39m.3f\u001b[39m\u001b[39m}\u001b[39;00m\u001b[39m ms, std: \u001b[39m\u001b[39m{\u001b[39;00mnp\u001b[39m.\u001b[39mstd(durations_ms)\u001b[39m:\u001b[39;00m\u001b[39m.3f\u001b[39m\u001b[39m}\u001b[39;00m\u001b[39m ms | num \u001b[39m\u001b[39m{\u001b[39;00m\u001b[39mlen\u001b[39m(durations_ms)\u001b[39m}\u001b[39;00m\u001b[39m\"\u001b[39m)\n\u001b[1;32m      9\u001b[0m ax\u001b[39m.\u001b[39mhist(durations_ms, bins\u001b[39m=\u001b[39m\u001b[39m15\u001b[39m, color\u001b[39m=\u001b[39mindigo)\n",
      "File \u001b[0;32m<__array_function__ internals>:180\u001b[0m, in \u001b[0;36mpercentile\u001b[0;34m(*args, **kwargs)\u001b[0m\n",
      "File \u001b[0;32m/opt/miniconda3/envs/apa/lib/python3.8/site-packages/numpy/lib/function_base.py:4166\u001b[0m, in \u001b[0;36mpercentile\u001b[0;34m(a, q, axis, out, overwrite_input, method, keepdims, interpolation)\u001b[0m\n\u001b[1;32m   4164\u001b[0m \u001b[39mif\u001b[39;00m \u001b[39mnot\u001b[39;00m _quantile_is_valid(q):\n\u001b[1;32m   4165\u001b[0m     \u001b[39mraise\u001b[39;00m \u001b[39mValueError\u001b[39;00m(\u001b[39m\"\u001b[39m\u001b[39mPercentiles must be in the range [0, 100]\u001b[39m\u001b[39m\"\u001b[39m)\n\u001b[0;32m-> 4166\u001b[0m \u001b[39mreturn\u001b[39;00m _quantile_unchecked(\n\u001b[1;32m   4167\u001b[0m     a, q, axis, out, overwrite_input, method, keepdims)\n",
      "File \u001b[0;32m/opt/miniconda3/envs/apa/lib/python3.8/site-packages/numpy/lib/function_base.py:4424\u001b[0m, in \u001b[0;36m_quantile_unchecked\u001b[0;34m(a, q, axis, out, overwrite_input, method, keepdims)\u001b[0m\n\u001b[1;32m   4416\u001b[0m \u001b[39mdef\u001b[39;00m \u001b[39m_quantile_unchecked\u001b[39m(a,\n\u001b[1;32m   4417\u001b[0m                         q,\n\u001b[1;32m   4418\u001b[0m                         axis\u001b[39m=\u001b[39m\u001b[39mNone\u001b[39;00m,\n\u001b[0;32m   (...)\u001b[0m\n\u001b[1;32m   4421\u001b[0m                         method\u001b[39m=\u001b[39m\u001b[39m\"\u001b[39m\u001b[39mlinear\u001b[39m\u001b[39m\"\u001b[39m,\n\u001b[1;32m   4422\u001b[0m                         keepdims\u001b[39m=\u001b[39m\u001b[39mFalse\u001b[39;00m):\n\u001b[1;32m   4423\u001b[0m     \u001b[39m\"\"\"Assumes that q is in [0, 1], and is an ndarray\"\"\"\u001b[39;00m\n\u001b[0;32m-> 4424\u001b[0m     r, k \u001b[39m=\u001b[39m _ureduce(a,\n\u001b[1;32m   4425\u001b[0m                     func\u001b[39m=\u001b[39;49m_quantile_ureduce_func,\n\u001b[1;32m   4426\u001b[0m                     q\u001b[39m=\u001b[39;49mq,\n\u001b[1;32m   4427\u001b[0m                     axis\u001b[39m=\u001b[39;49maxis,\n\u001b[1;32m   4428\u001b[0m                     out\u001b[39m=\u001b[39;49mout,\n\u001b[1;32m   4429\u001b[0m                     overwrite_input\u001b[39m=\u001b[39;49moverwrite_input,\n\u001b[1;32m   4430\u001b[0m                     method\u001b[39m=\u001b[39;49mmethod)\n\u001b[1;32m   4431\u001b[0m     \u001b[39mif\u001b[39;00m keepdims:\n\u001b[1;32m   4432\u001b[0m         \u001b[39mreturn\u001b[39;00m r\u001b[39m.\u001b[39mreshape(q\u001b[39m.\u001b[39mshape \u001b[39m+\u001b[39m k)\n",
      "File \u001b[0;32m/opt/miniconda3/envs/apa/lib/python3.8/site-packages/numpy/lib/function_base.py:3725\u001b[0m, in \u001b[0;36m_ureduce\u001b[0;34m(a, func, **kwargs)\u001b[0m\n\u001b[1;32m   3722\u001b[0m \u001b[39melse\u001b[39;00m:\n\u001b[1;32m   3723\u001b[0m     keepdim \u001b[39m=\u001b[39m (\u001b[39m1\u001b[39m,) \u001b[39m*\u001b[39m a\u001b[39m.\u001b[39mndim\n\u001b[0;32m-> 3725\u001b[0m r \u001b[39m=\u001b[39m func(a, \u001b[39m*\u001b[39;49m\u001b[39m*\u001b[39;49mkwargs)\n\u001b[1;32m   3726\u001b[0m \u001b[39mreturn\u001b[39;00m r, keepdim\n",
      "File \u001b[0;32m/opt/miniconda3/envs/apa/lib/python3.8/site-packages/numpy/lib/function_base.py:4593\u001b[0m, in \u001b[0;36m_quantile_ureduce_func\u001b[0;34m(a, q, axis, out, overwrite_input, method)\u001b[0m\n\u001b[1;32m   4591\u001b[0m     \u001b[39melse\u001b[39;00m:\n\u001b[1;32m   4592\u001b[0m         arr \u001b[39m=\u001b[39m a\u001b[39m.\u001b[39mcopy()\n\u001b[0;32m-> 4593\u001b[0m result \u001b[39m=\u001b[39m _quantile(arr,\n\u001b[1;32m   4594\u001b[0m                    quantiles\u001b[39m=\u001b[39;49mq,\n\u001b[1;32m   4595\u001b[0m                    axis\u001b[39m=\u001b[39;49maxis,\n\u001b[1;32m   4596\u001b[0m                    method\u001b[39m=\u001b[39;49mmethod,\n\u001b[1;32m   4597\u001b[0m                    out\u001b[39m=\u001b[39;49mout)\n\u001b[1;32m   4598\u001b[0m \u001b[39mreturn\u001b[39;00m result\n",
      "File \u001b[0;32m/opt/miniconda3/envs/apa/lib/python3.8/site-packages/numpy/lib/function_base.py:4699\u001b[0m, in \u001b[0;36m_quantile\u001b[0;34m(arr, quantiles, axis, method, out)\u001b[0m\n\u001b[1;32m   4691\u001b[0m arr\u001b[39m.\u001b[39mpartition(\n\u001b[1;32m   4692\u001b[0m     np\u001b[39m.\u001b[39munique(np\u001b[39m.\u001b[39mconcatenate(([\u001b[39m0\u001b[39m, \u001b[39m-\u001b[39m\u001b[39m1\u001b[39m],\n\u001b[1;32m   4693\u001b[0m                               previous_indexes\u001b[39m.\u001b[39mravel(),\n\u001b[1;32m   4694\u001b[0m                               next_indexes\u001b[39m.\u001b[39mravel(),\n\u001b[1;32m   4695\u001b[0m                               ))),\n\u001b[1;32m   4696\u001b[0m     axis\u001b[39m=\u001b[39mDATA_AXIS)\n\u001b[1;32m   4697\u001b[0m \u001b[39mif\u001b[39;00m np\u001b[39m.\u001b[39missubdtype(arr\u001b[39m.\u001b[39mdtype, np\u001b[39m.\u001b[39minexact):\n\u001b[1;32m   4698\u001b[0m     slices_having_nans \u001b[39m=\u001b[39m np\u001b[39m.\u001b[39misnan(\n\u001b[0;32m-> 4699\u001b[0m         take(arr, indices\u001b[39m=\u001b[39;49m\u001b[39m-\u001b[39;49m\u001b[39m1\u001b[39;49m, axis\u001b[39m=\u001b[39;49mDATA_AXIS)\n\u001b[1;32m   4700\u001b[0m     )\n\u001b[1;32m   4701\u001b[0m \u001b[39melse\u001b[39;00m:\n\u001b[1;32m   4702\u001b[0m     slices_having_nans \u001b[39m=\u001b[39m \u001b[39mNone\u001b[39;00m\n",
      "File \u001b[0;32m<__array_function__ internals>:180\u001b[0m, in \u001b[0;36mtake\u001b[0;34m(*args, **kwargs)\u001b[0m\n",
      "File \u001b[0;32m/opt/miniconda3/envs/apa/lib/python3.8/site-packages/numpy/core/fromnumeric.py:190\u001b[0m, in \u001b[0;36mtake\u001b[0;34m(a, indices, axis, out, mode)\u001b[0m\n\u001b[1;32m     93\u001b[0m \u001b[39m@array_function_dispatch\u001b[39m(_take_dispatcher)\n\u001b[1;32m     94\u001b[0m \u001b[39mdef\u001b[39;00m \u001b[39mtake\u001b[39m(a, indices, axis\u001b[39m=\u001b[39m\u001b[39mNone\u001b[39;00m, out\u001b[39m=\u001b[39m\u001b[39mNone\u001b[39;00m, mode\u001b[39m=\u001b[39m\u001b[39m'\u001b[39m\u001b[39mraise\u001b[39m\u001b[39m'\u001b[39m):\n\u001b[1;32m     95\u001b[0m     \u001b[39m\"\"\"\u001b[39;00m\n\u001b[1;32m     96\u001b[0m \u001b[39m    Take elements from an array along an axis.\u001b[39;00m\n\u001b[1;32m     97\u001b[0m \n\u001b[0;32m   (...)\u001b[0m\n\u001b[1;32m    188\u001b[0m \u001b[39m           [5, 7]])\u001b[39;00m\n\u001b[1;32m    189\u001b[0m \u001b[39m    \"\"\"\u001b[39;00m\n\u001b[0;32m--> 190\u001b[0m     \u001b[39mreturn\u001b[39;00m _wrapfunc(a, \u001b[39m'\u001b[39;49m\u001b[39mtake\u001b[39;49m\u001b[39m'\u001b[39;49m, indices, axis\u001b[39m=\u001b[39;49maxis, out\u001b[39m=\u001b[39;49mout, mode\u001b[39m=\u001b[39;49mmode)\n",
      "File \u001b[0;32m/opt/miniconda3/envs/apa/lib/python3.8/site-packages/numpy/core/fromnumeric.py:57\u001b[0m, in \u001b[0;36m_wrapfunc\u001b[0;34m(obj, method, *args, **kwds)\u001b[0m\n\u001b[1;32m     54\u001b[0m     \u001b[39mreturn\u001b[39;00m _wrapit(obj, method, \u001b[39m*\u001b[39margs, \u001b[39m*\u001b[39m\u001b[39m*\u001b[39mkwds)\n\u001b[1;32m     56\u001b[0m \u001b[39mtry\u001b[39;00m:\n\u001b[0;32m---> 57\u001b[0m     \u001b[39mreturn\u001b[39;00m bound(\u001b[39m*\u001b[39;49margs, \u001b[39m*\u001b[39;49m\u001b[39m*\u001b[39;49mkwds)\n\u001b[1;32m     58\u001b[0m \u001b[39mexcept\u001b[39;00m \u001b[39mTypeError\u001b[39;00m:\n\u001b[1;32m     59\u001b[0m     \u001b[39m# A TypeError occurs if the object does have such a method in its\u001b[39;00m\n\u001b[1;32m     60\u001b[0m     \u001b[39m# class, but its signature is not identical to that of NumPy's. This\u001b[39;00m\n\u001b[0;32m   (...)\u001b[0m\n\u001b[1;32m     64\u001b[0m     \u001b[39m# Call _wrapit from within the except clause to ensure a potential\u001b[39;00m\n\u001b[1;32m     65\u001b[0m     \u001b[39m# exception has a traceback chain.\u001b[39;00m\n\u001b[1;32m     66\u001b[0m     \u001b[39mreturn\u001b[39;00m _wrapit(obj, method, \u001b[39m*\u001b[39margs, \u001b[39m*\u001b[39m\u001b[39m*\u001b[39mkwds)\n",
      "\u001b[0;31mIndexError\u001b[0m: cannot do a non-empty take from an empty axes."
     ]
    },
    {
     "data": {
      "image/png": "[encoded data removed]"
     },
     "metadata": {
      "needs_background": "light"
     },
     "output_type": "display_data"
    }
   ],
   "source": [
    "plt.rcParams.update({'font.size': 18})\n",
    "f, ax = plt.subplots(figsize=(16, 9))\n",
    "\n",
    "durations_ms = [frame2ms(d) for d in durations]\n",
    "\n",
    "low, high = np.percentile(durations_ms, [5, 95])\n",
    "print(f\"low {low:.3f} ms high {high:.3f} ms, mean {np.mean(durations_ms):.3f} ms, median {np.median(durations_ms):.3f} ms, std: {np.std(durations_ms):.3f} ms | num {len(durations_ms)}\")\n",
    "\n",
    "ax.hist(durations_ms, bins=15, color=indigo)\n",
    "ax.plot([low, high], [-.5, -.5], \"-\", color=indigo, lw=4)\n",
    "ax.scatter(np.median(durations_ms), -.5, color=\"white\", lw=4, ec=indigo, zorder=100,  s=150)\n",
    "\n",
    "_ = ax.set(xlabel=\"duration (frames)\", ylabel=\"count\", title=\"APA duration\")\n",
    "\n",
    "clean_axes(f)\n",
    "f.savefig(savepath / f\"apa_duration_distribution_{CONDITION}_strain_{STRAIN}.svg\", dpi=500)\n"
   ]
  },
  {
   "cell_type": "markdown",
   "metadata": {},
   "source": [
    "### T tests\n",
    "\n",
    "Manually run the analysis above for each condition and write down the values to be used in the ttest"
   ]
  },
  {
   "cell_type": "code",
   "execution_count": null,
   "metadata": {},
   "outputs": [
    {
     "name": "stdout",
     "output_type": "stream",
     "text": [
      "\n",
      "    CTRL different from DTR c57? False (p=1.00000)\n",
      "    CTRL different from DTR vglut? False (p=0.57148)\n",
      "    DTR vglut different from DTR c57? False (p=1.00000)\n",
      "\n"
     ]
    }
   ],
   "source": [
    "conditions_data = dict(\n",
    "    condition = [\"ctrl_c57\", \"dtr_c57\", \"dtr_vglut\"],\n",
    "    mean = [87.938, 80.362, 65.253],\n",
    "    std = [61.430, 65.140, 50.862],\n",
    "    median = [76.564, 65.637, 50.531],\n",
    "    num = [61, 15, 15],\n",
    ")\n",
    "\n",
    "from scipy.stats import ttest_ind_from_stats\n",
    "import statsmodels.stats.multitest as smm\n",
    "\n",
    "_, ctrl_vs_dtrc57_pval = ttest_ind_from_stats(\n",
    "        conditions_data[\"mean\"][0],\n",
    "        conditions_data[\"std\"][0],\n",
    "        conditions_data[\"num\"][0],\n",
    "        conditions_data[\"mean\"][1],\n",
    "        conditions_data[\"std\"][1],\n",
    "        conditions_data[\"num\"][1]\n",
    "        )\n",
    "\n",
    "\n",
    "_, ctrl_vs_dtrvglut_pval = ttest_ind_from_stats(\n",
    "        conditions_data[\"mean\"][0],\n",
    "        conditions_data[\"std\"][0],\n",
    "        conditions_data[\"num\"][0],\n",
    "        conditions_data[\"mean\"][2],\n",
    "        conditions_data[\"std\"][2],\n",
    "        conditions_data[\"num\"][2]\n",
    "        )\n",
    "\n",
    "_, dtrc57_vs_dtrvglut = ttest_ind_from_stats(\n",
    "        conditions_data[\"mean\"][2],\n",
    "        conditions_data[\"std\"][2],\n",
    "        conditions_data[\"num\"][2],\n",
    "        conditions_data[\"mean\"][1],\n",
    "        conditions_data[\"std\"][1],\n",
    "        conditions_data[\"num\"][1]\n",
    "        )\n",
    "\n",
    "\n",
    "rejected, p_corrected, _, _ = smm.multipletests([ctrl_vs_dtrc57_pval, ctrl_vs_dtrvglut_pval, dtrc57_vs_dtrvglut], alpha=0.05, method='bonferroni')\n",
    "print(f\"\"\"\n",
    "    CTRL different from DTR c57? {rejected[0]} (p={p_corrected[0]:.5f})\n",
    "    CTRL different from DTR vglut? {rejected[1]} (p={p_corrected[1]:.5f})\n",
    "    DTR vglut different from DTR c57? {rejected[2]} (p={p_corrected[2]:.5f})\n",
    "\"\"\")"
   ]
  }
 ],
 "metadata": {
  "kernelspec": {
   "display_name": "Python 3.8.13 ('apa')",
   "language": "python",
   "name": "python3"
  },
  "language_info": {
   "codemirror_mode": {
    "name": "ipython",
    "version": 3
   },
   "file_extension": ".py",
   "mimetype": "text/x-python",
   "name": "python",
   "nbconvert_exporter": "python",
   "pygments_lexer": "ipython3",
   "version": "3.8.13"
  },
  "orig_nbformat": 4,
  "vscode": {
   "interpreter": {
    "hash": "bb7635acb14c4f9e37a3d032764c29cbfd4b943ab575788b2873fe2faf94422d"
   }
  }
 },
 "nbformat": 4,
 "nbformat_minor": 2
}
