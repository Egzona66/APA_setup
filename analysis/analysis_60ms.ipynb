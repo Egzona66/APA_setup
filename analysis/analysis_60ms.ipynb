{
 "cells": [
  {
   "cell_type": "markdown",
   "metadata": {},
   "source": [
    "# Estimate APA duration.\n",
    "\n",
    "Analysis aiming to show that the interesting part of APAs lasts 60ms\n",
    "\n",
    "To do this, we take the trace for the FR at each trial. \n",
    "We fit a 3-segment piece-wise linear curve to it.\n",
    "We look at the middle segment (corresponding to when the mouse lifts the paw) and it's extent in time. "
   ]
  },
  {
   "cell_type": "code",
   "execution_count": 1,
   "metadata": {},
   "outputs": [
    {
     "name": "stderr",
     "output_type": "stream",
     "text": [
      "/Users/federicoclaudi/miniconda3/envs/dev/lib/python3.8/site-packages/statsmodels/tsa/base/tsa_model.py:7: FutureWarning: pandas.Int64Index is deprecated and will be removed from pandas in a future version. Use pandas.Index with the appropriate dtype instead.\n",
      "  from pandas import (to_datetime, Int64Index, DatetimeIndex, Period,\n",
      "/Users/federicoclaudi/miniconda3/envs/dev/lib/python3.8/site-packages/statsmodels/tsa/base/tsa_model.py:7: FutureWarning: pandas.Float64Index is deprecated and will be removed from pandas in a future version. Use pandas.Index with the appropriate dtype instead.\n",
      "  from pandas import (to_datetime, Int64Index, DatetimeIndex, Period,\n"
     ]
    },
    {
     "data": {
      "text/html": [
       "<pre style=\"white-space:pre;overflow-x:auto;line-height:normal;font-family:Menlo,'DejaVu Sans Mono',consolas,'Courier New',monospace\"><span style=\"color: #7fbfbf; text-decoration-color: #7fbfbf\">[06/21/22 23:27:38] </span><span style=\"color: #008000; text-decoration-color: #008000\">DEBUG   </span> DPL - Saving data and logs to logs                   <a href=\"file:///Users/federicoclaudi/miniconda3/envs/dev/lib/python3.8/site-packages/tpd/core.py\"><span style=\"color: #7f7f7f; text-decoration-color: #7f7f7f\">core.py</span></a><span style=\"color: #7f7f7f; text-decoration-color: #7f7f7f\">:</span><a href=\"file:///Users/federicoclaudi/miniconda3/envs/dev/lib/python3.8/site-packages/tpd/core.py#118\"><span style=\"color: #7f7f7f; text-decoration-color: #7f7f7f\">118</span></a>\n",
       "</pre>\n"
      ],
      "text/plain": [
       "\u001b[2;36m[06/21/22 23:27:38]\u001b[0m\u001b[2;36m \u001b[0m\u001b[32mDEBUG   \u001b[0m DPL - Saving data and logs to logs                   \u001b]8;id=619827;file:///Users/federicoclaudi/miniconda3/envs/dev/lib/python3.8/site-packages/tpd/core.py\u001b\\\u001b[2mcore.py\u001b[0m\u001b]8;;\u001b\\\u001b[2m:\u001b[0m\u001b]8;id=673913;file:///Users/federicoclaudi/miniconda3/envs/dev/lib/python3.8/site-packages/tpd/core.py#118\u001b\\\u001b[2m118\u001b[0m\u001b]8;;\u001b\\\n"
      ]
     },
     "metadata": {},
     "output_type": "display_data"
    },
    {
     "data": {
      "text/html": [
       "<pre style=\"white-space:pre;overflow-x:auto;line-height:normal;font-family:Menlo,'DejaVu Sans Mono',consolas,'Courier New',monospace\"><span style=\"color: #7fbfbf; text-decoration-color: #7fbfbf\">                    </span><span style=\"color: #008000; text-decoration-color: #008000\">DEBUG   </span> Saving log file to: logs/log.log                     <a href=\"file:///Users/federicoclaudi/miniconda3/envs/dev/lib/python3.8/site-packages/tpd/core.py\"><span style=\"color: #7f7f7f; text-decoration-color: #7f7f7f\">core.py</span></a><span style=\"color: #7f7f7f; text-decoration-color: #7f7f7f\">:</span><a href=\"file:///Users/federicoclaudi/miniconda3/envs/dev/lib/python3.8/site-packages/tpd/core.py#119\"><span style=\"color: #7f7f7f; text-decoration-color: #7f7f7f\">119</span></a>\n",
       "</pre>\n"
      ],
      "text/plain": [
       "\u001b[2;36m                   \u001b[0m\u001b[2;36m \u001b[0m\u001b[32mDEBUG   \u001b[0m Saving log file to: logs/log.log                     \u001b]8;id=324520;file:///Users/federicoclaudi/miniconda3/envs/dev/lib/python3.8/site-packages/tpd/core.py\u001b\\\u001b[2mcore.py\u001b[0m\u001b]8;;\u001b\\\u001b[2m:\u001b[0m\u001b]8;id=890618;file:///Users/federicoclaudi/miniconda3/envs/dev/lib/python3.8/site-packages/tpd/core.py#119\u001b\\\u001b[2m119\u001b[0m\u001b]8;;\u001b\\\n"
      ]
     },
     "metadata": {},
     "output_type": "display_data"
    },
    {
     "data": {
      "text/html": [
       "<pre style=\"white-space:pre;overflow-x:auto;line-height:normal;font-family:Menlo,'DejaVu Sans Mono',consolas,'Courier New',monospace\"><span style=\"color: #7fbfbf; text-decoration-color: #7fbfbf\">                    </span><span style=\"color: #000080; text-decoration-color: #000080\">INFO    </span> Starting data pre-processing with trials     <a href=\"file:///Users/federicoclaudi/Documents/Github/APA_setup/analysis/process_data.py\"><span style=\"color: #7f7f7f; text-decoration-color: #7f7f7f\">process_data.py</span></a><span style=\"color: #7f7f7f; text-decoration-color: #7f7f7f\">:</span><a href=\"file:///Users/federicoclaudi/Documents/Github/APA_setup/analysis/process_data.py#113\"><span style=\"color: #7f7f7f; text-decoration-color: #7f7f7f\">113</span></a>\n",
       "                             file: <span style=\"color: #800080; text-decoration-color: #800080\">/Volumes/Samsung_T5/</span><span style=\"color: #ff00ff; text-decoration-color: #ff00ff\">DATA</span> BACKUP/Egzona                    \n",
       "                             /Forceplate/240522_ALL_trials_2022_analysis.                    \n",
       "                             csv.                                                            \n",
       "</pre>\n"
      ],
      "text/plain": [
       "\u001b[2;36m                   \u001b[0m\u001b[2;36m \u001b[0m\u001b[34mINFO    \u001b[0m Starting data pre-processing with trials     \u001b]8;id=111441;file:///Users/federicoclaudi/Documents/Github/APA_setup/analysis/process_data.py\u001b\\\u001b[2mprocess_data.py\u001b[0m\u001b]8;;\u001b\\\u001b[2m:\u001b[0m\u001b]8;id=400775;file:///Users/federicoclaudi/Documents/Github/APA_setup/analysis/process_data.py#113\u001b\\\u001b[2m113\u001b[0m\u001b]8;;\u001b\\\n",
       "                             file: \u001b[35m/Volumes/Samsung_T5/\u001b[0m\u001b[95mDATA\u001b[0m BACKUP/Egzona                    \n",
       "                             /Forceplate/240522_ALL_trials_2022_analysis.                    \n",
       "                             csv.                                                            \n"
      ]
     },
     "metadata": {},
     "output_type": "display_data"
    },
    {
     "data": {
      "text/html": [
       "<pre style=\"white-space:pre;overflow-x:auto;line-height:normal;font-family:Menlo,'DejaVu Sans Mono',consolas,'Courier New',monospace\"><span style=\"color: #7fbfbf; text-decoration-color: #7fbfbf\">                    </span><span style=\"color: #000080; text-decoration-color: #000080\">INFO    </span> Caliration file: <span style=\"color: #800080; text-decoration-color: #800080\">/Volumes/Samsung_T5/</span><span style=\"color: #ff00ff; text-decoration-color: #ff00ff\">DATA</span> BA <a href=\"file:///Users/federicoclaudi/Documents/Github/APA_setup/analysis/process_data.py\"><span style=\"color: #7f7f7f; text-decoration-color: #7f7f7f\">process_data.py</span></a><span style=\"color: #7f7f7f; text-decoration-color: #7f7f7f\">:</span><a href=\"file:///Users/federicoclaudi/Documents/Github/APA_setup/analysis/process_data.py#116\"><span style=\"color: #7f7f7f; text-decoration-color: #7f7f7f\">116</span></a>\n",
       "                             CKUP/Egzona/Forceplate/forceplatesensors_cal                    \n",
       "                             ibration4.csv.                                                  \n",
       "</pre>\n"
      ],
      "text/plain": [
       "\u001b[2;36m                   \u001b[0m\u001b[2;36m \u001b[0m\u001b[34mINFO    \u001b[0m Caliration file: \u001b[35m/Volumes/Samsung_T5/\u001b[0m\u001b[95mDATA\u001b[0m BA \u001b]8;id=350114;file:///Users/federicoclaudi/Documents/Github/APA_setup/analysis/process_data.py\u001b\\\u001b[2mprocess_data.py\u001b[0m\u001b]8;;\u001b\\\u001b[2m:\u001b[0m\u001b]8;id=323617;file:///Users/federicoclaudi/Documents/Github/APA_setup/analysis/process_data.py#116\u001b\\\u001b[2m116\u001b[0m\u001b]8;;\u001b\\\n",
       "                             CKUP/Egzona/Forceplate/forceplatesensors_cal                    \n",
       "                             ibration4.csv.                                                  \n"
      ]
     },
     "metadata": {},
     "output_type": "display_data"
    },
    {
     "data": {
      "text/html": [
       "<pre style=\"white-space:pre;overflow-x:auto;line-height:normal;font-family:Menlo,'DejaVu Sans Mono',consolas,'Courier New',monospace\"><span style=\"color: #7fbfbf; text-decoration-color: #7fbfbf\">                    </span><span style=\"color: #000080; text-decoration-color: #000080\">INFO    </span> Found <span style=\"color: #008080; text-decoration-color: #008080; font-weight: bold\">36</span> subfolders                           <a href=\"file:///Users/federicoclaudi/Documents/Github/APA_setup/analysis/process_data.py\"><span style=\"color: #7f7f7f; text-decoration-color: #7f7f7f\">process_data.py</span></a><span style=\"color: #7f7f7f; text-decoration-color: #7f7f7f\">:</span><a href=\"file:///Users/federicoclaudi/Documents/Github/APA_setup/analysis/process_data.py#54\"><span style=\"color: #7f7f7f; text-decoration-color: #7f7f7f\">54</span></a>\n",
       "</pre>\n"
      ],
      "text/plain": [
       "\u001b[2;36m                   \u001b[0m\u001b[2;36m \u001b[0m\u001b[34mINFO    \u001b[0m Found \u001b[1;36m36\u001b[0m subfolders                           \u001b]8;id=613083;file:///Users/federicoclaudi/Documents/Github/APA_setup/analysis/process_data.py\u001b\\\u001b[2mprocess_data.py\u001b[0m\u001b]8;;\u001b\\\u001b[2m:\u001b[0m\u001b]8;id=548456;file:///Users/federicoclaudi/Documents/Github/APA_setup/analysis/process_data.py#54\u001b\\\u001b[2m54\u001b[0m\u001b]8;;\u001b\\\n"
      ]
     },
     "metadata": {},
     "output_type": "display_data"
    },
    {
     "data": {
      "text/html": [
       "<pre style=\"white-space:pre;overflow-x:auto;line-height:normal;font-family:Menlo,'DejaVu Sans Mono',consolas,'Courier New',monospace\"><span style=\"color: #7fbfbf; text-decoration-color: #7fbfbf\">                    </span><span style=\"color: #008000; text-decoration-color: #008000\">DEBUG   </span> Setting previously stored params: <span style=\"font-weight: bold\">{</span><span style=\"color: #008000; text-decoration-color: #008000\">'DEBUG'</span>:   <a href=\"file:///Users/federicoclaudi/Documents/Github/APA_setup/analysis/process_data.py\"><span style=\"color: #7f7f7f; text-decoration-color: #7f7f7f\">process_data.py</span></a><span style=\"color: #7f7f7f; text-decoration-color: #7f7f7f\">:</span><a href=\"file:///Users/federicoclaudi/Documents/Github/APA_setup/analysis/process_data.py#89\"><span style=\"color: #7f7f7f; text-decoration-color: #7f7f7f\">89</span></a>\n",
       "                             <span style=\"color: #00ff00; text-decoration-color: #00ff00; font-style: italic\">True</span>, <span style=\"color: #008000; text-decoration-color: #008000\">'CONDITIONS'</span>: <span style=\"font-weight: bold\">[</span><span style=\"color: #008000; text-decoration-color: #008000\">'WT'</span>, <span style=\"color: #008000; text-decoration-color: #008000\">'CTRL'</span>, <span style=\"color: #008000; text-decoration-color: #008000\">'DTR'</span><span style=\"font-weight: bold\">]</span>,                      \n",
       "                             <span style=\"color: #008000; text-decoration-color: #008000\">'STANDING_STILL'</span>: <span style=\"color: #ff0000; text-decoration-color: #ff0000; font-style: italic\">False</span>, <span style=\"color: #008000; text-decoration-color: #008000\">'calibrate'</span>: <span style=\"color: #00ff00; text-decoration-color: #00ff00; font-style: italic\">True</span>,                     \n",
       "                             <span style=\"color: #008000; text-decoration-color: #008000\">'weight_percentage'</span>: <span style=\"color: #00ff00; text-decoration-color: #00ff00; font-style: italic\">True</span>, <span style=\"color: #008000; text-decoration-color: #008000\">'correct_for_paw'</span>:                   \n",
       "                             <span style=\"color: #00ff00; text-decoration-color: #00ff00; font-style: italic\">True</span>, <span style=\"color: #008000; text-decoration-color: #008000\">'frames_file'</span>:                                            \n",
       "                             <span style=\"color: #008000; text-decoration-color: #008000\">'/Volumes/Samsung_T5/DATA BACKUP/Egzona/Force</span>                   \n",
       "                             <span style=\"color: #008000; text-decoration-color: #008000\">plate/240522_ALL_trials_2022_analysis.csv'</span>,                     \n",
       "                             <span style=\"color: #008000; text-decoration-color: #008000\">'calibration_file'</span>: <span style=\"color: #008000; text-decoration-color: #008000\">'/Volumes/Samsung_T5/DATA</span>                   \n",
       "                             <span style=\"color: #008000; text-decoration-color: #008000\">BACKUP/Egzona/Forceplate/forceplatesensors_ca</span>                   \n",
       "                             <span style=\"color: #008000; text-decoration-color: #008000\">libration4.csv'</span>, <span style=\"color: #008000; text-decoration-color: #008000\">'main_fld'</span>:                                    \n",
       "                             <span style=\"color: #008000; text-decoration-color: #008000\">'/Volumes/Samsung_T5/DATA </span>                                      \n",
       "                             <span style=\"color: #008000; text-decoration-color: #008000\">BACKUP/Egzona/Forceplate/CURRENT ANALYSIS </span>                      \n",
       "                             <span style=\"color: #008000; text-decoration-color: #008000\">TRIALS'</span>, <span style=\"color: #008000; text-decoration-color: #008000\">'fps'</span>: <span style=\"color: #008080; text-decoration-color: #008080; font-weight: bold\">600</span>, <span style=\"color: #008000; text-decoration-color: #008000\">'smoothing_window'</span>:                        \n",
       "                             <span style=\"color: #008080; text-decoration-color: #008080; font-weight: bold\">0.01</span>, <span style=\"color: #008000; text-decoration-color: #008000\">'on_sensor_weight_th'</span>: <span style=\"color: #008080; text-decoration-color: #008080; font-weight: bold\">2</span>,                                 \n",
       "                             <span style=\"color: #008000; text-decoration-color: #008000\">'on_all_sensors_weight_th'</span>: <span style=\"color: #008080; text-decoration-color: #008080; font-weight: bold\">66</span>,                                 \n",
       "                             <span style=\"color: #008000; text-decoration-color: #008000\">'n_secs_before'</span>: <span style=\"color: #008080; text-decoration-color: #008080; font-weight: bold\">0.2</span>, <span style=\"color: #008000; text-decoration-color: #008000\">'n_secs_after'</span>: <span style=\"color: #008080; text-decoration-color: #008080; font-weight: bold\">0.2</span>,                      \n",
       "                             <span style=\"color: #008000; text-decoration-color: #008000\">'min_baseline_duration'</span>: <span style=\"color: #008080; text-decoration-color: #008080; font-weight: bold\">0</span>,                                     \n",
       "                             <span style=\"color: #008000; text-decoration-color: #008000\">'trial_start_detection_window'</span>: <span style=\"color: #008080; text-decoration-color: #008080; font-weight: bold\">0.15</span>,                           \n",
       "                             <span style=\"color: #008000; text-decoration-color: #008000\">'plot_individual_trials'</span>: <span style=\"color: #ff0000; text-decoration-color: #ff0000; font-style: italic\">False</span><span style=\"font-weight: bold\">}</span>                                \n",
       "</pre>\n"
      ],
      "text/plain": [
       "\u001b[2;36m                   \u001b[0m\u001b[2;36m \u001b[0m\u001b[32mDEBUG   \u001b[0m Setting previously stored params: \u001b[1m{\u001b[0m\u001b[32m'DEBUG'\u001b[0m:   \u001b]8;id=392346;file:///Users/federicoclaudi/Documents/Github/APA_setup/analysis/process_data.py\u001b\\\u001b[2mprocess_data.py\u001b[0m\u001b]8;;\u001b\\\u001b[2m:\u001b[0m\u001b]8;id=435674;file:///Users/federicoclaudi/Documents/Github/APA_setup/analysis/process_data.py#89\u001b\\\u001b[2m89\u001b[0m\u001b]8;;\u001b\\\n",
       "                             \u001b[3;92mTrue\u001b[0m, \u001b[32m'CONDITIONS'\u001b[0m: \u001b[1m[\u001b[0m\u001b[32m'WT'\u001b[0m, \u001b[32m'CTRL'\u001b[0m, \u001b[32m'DTR'\u001b[0m\u001b[1m]\u001b[0m,                      \n",
       "                             \u001b[32m'STANDING_STILL'\u001b[0m: \u001b[3;91mFalse\u001b[0m, \u001b[32m'calibrate'\u001b[0m: \u001b[3;92mTrue\u001b[0m,                     \n",
       "                             \u001b[32m'weight_percentage'\u001b[0m: \u001b[3;92mTrue\u001b[0m, \u001b[32m'correct_for_paw'\u001b[0m:                   \n",
       "                             \u001b[3;92mTrue\u001b[0m, \u001b[32m'frames_file'\u001b[0m:                                            \n",
       "                             \u001b[32m'/Volumes/Samsung_T5/DATA BACKUP/Egzona/Force\u001b[0m                   \n",
       "                             \u001b[32mplate/240522_ALL_trials_2022_analysis.csv'\u001b[0m,                     \n",
       "                             \u001b[32m'calibration_file'\u001b[0m: \u001b[32m'/Volumes/Samsung_T5/DATA\u001b[0m                   \n",
       "                             \u001b[32mBACKUP/Egzona/Forceplate/forceplatesensors_ca\u001b[0m                   \n",
       "                             \u001b[32mlibration4.csv'\u001b[0m, \u001b[32m'main_fld'\u001b[0m:                                    \n",
       "                             \u001b[32m'/Volumes/Samsung_T5/DATA \u001b[0m                                      \n",
       "                             \u001b[32mBACKUP/Egzona/Forceplate/CURRENT ANALYSIS \u001b[0m                      \n",
       "                             \u001b[32mTRIALS'\u001b[0m, \u001b[32m'fps'\u001b[0m: \u001b[1;36m600\u001b[0m, \u001b[32m'smoothing_window'\u001b[0m:                        \n",
       "                             \u001b[1;36m0.01\u001b[0m, \u001b[32m'on_sensor_weight_th'\u001b[0m: \u001b[1;36m2\u001b[0m,                                 \n",
       "                             \u001b[32m'on_all_sensors_weight_th'\u001b[0m: \u001b[1;36m66\u001b[0m,                                 \n",
       "                             \u001b[32m'n_secs_before'\u001b[0m: \u001b[1;36m0.2\u001b[0m, \u001b[32m'n_secs_after'\u001b[0m: \u001b[1;36m0.2\u001b[0m,                      \n",
       "                             \u001b[32m'min_baseline_duration'\u001b[0m: \u001b[1;36m0\u001b[0m,                                     \n",
       "                             \u001b[32m'trial_start_detection_window'\u001b[0m: \u001b[1;36m0.15\u001b[0m,                           \n",
       "                             \u001b[32m'plot_individual_trials'\u001b[0m: \u001b[3;91mFalse\u001b[0m\u001b[1m}\u001b[0m                                \n"
      ]
     },
     "metadata": {},
     "output_type": "display_data"
    },
    {
     "data": {
      "text/html": [
       "<pre style=\"white-space:pre;overflow-x:auto;line-height:normal;font-family:Menlo,'DejaVu Sans Mono',consolas,'Courier New',monospace\"><span style=\"color: #7fbfbf; text-decoration-color: #7fbfbf\">                    </span><span style=\"color: #000080; text-decoration-color: #000080\">INFO    </span> Starting data pre-processing with trials     <a href=\"file:///Users/federicoclaudi/Documents/Github/APA_setup/analysis/process_data.py\"><span style=\"color: #7f7f7f; text-decoration-color: #7f7f7f\">process_data.py</span></a><span style=\"color: #7f7f7f; text-decoration-color: #7f7f7f\">:</span><a href=\"file:///Users/federicoclaudi/Documents/Github/APA_setup/analysis/process_data.py#113\"><span style=\"color: #7f7f7f; text-decoration-color: #7f7f7f\">113</span></a>\n",
       "                             file: <span style=\"color: #800080; text-decoration-color: #800080\">/Volumes/Samsung_T5/</span><span style=\"color: #ff00ff; text-decoration-color: #ff00ff\">DATA</span> BACKUP/Egzona                    \n",
       "                             /Forceplate/240522_ALL_trials_2022_analysis.                    \n",
       "                             csv.                                                            \n",
       "</pre>\n"
      ],
      "text/plain": [
       "\u001b[2;36m                   \u001b[0m\u001b[2;36m \u001b[0m\u001b[34mINFO    \u001b[0m Starting data pre-processing with trials     \u001b]8;id=112858;file:///Users/federicoclaudi/Documents/Github/APA_setup/analysis/process_data.py\u001b\\\u001b[2mprocess_data.py\u001b[0m\u001b]8;;\u001b\\\u001b[2m:\u001b[0m\u001b]8;id=86445;file:///Users/federicoclaudi/Documents/Github/APA_setup/analysis/process_data.py#113\u001b\\\u001b[2m113\u001b[0m\u001b]8;;\u001b\\\n",
       "                             file: \u001b[35m/Volumes/Samsung_T5/\u001b[0m\u001b[95mDATA\u001b[0m BACKUP/Egzona                    \n",
       "                             /Forceplate/240522_ALL_trials_2022_analysis.                    \n",
       "                             csv.                                                            \n"
      ]
     },
     "metadata": {},
     "output_type": "display_data"
    },
    {
     "data": {
      "text/html": [
       "<pre style=\"white-space:pre;overflow-x:auto;line-height:normal;font-family:Menlo,'DejaVu Sans Mono',consolas,'Courier New',monospace\"><span style=\"color: #7fbfbf; text-decoration-color: #7fbfbf\">                    </span><span style=\"color: #000080; text-decoration-color: #000080\">INFO    </span> Caliration file: <span style=\"color: #800080; text-decoration-color: #800080\">/Volumes/Samsung_T5/</span><span style=\"color: #ff00ff; text-decoration-color: #ff00ff\">DATA</span> BA <a href=\"file:///Users/federicoclaudi/Documents/Github/APA_setup/analysis/process_data.py\"><span style=\"color: #7f7f7f; text-decoration-color: #7f7f7f\">process_data.py</span></a><span style=\"color: #7f7f7f; text-decoration-color: #7f7f7f\">:</span><a href=\"file:///Users/federicoclaudi/Documents/Github/APA_setup/analysis/process_data.py#116\"><span style=\"color: #7f7f7f; text-decoration-color: #7f7f7f\">116</span></a>\n",
       "                             CKUP/Egzona/Forceplate/forceplatesensors_cal                    \n",
       "                             ibration4.csv.                                                  \n",
       "</pre>\n"
      ],
      "text/plain": [
       "\u001b[2;36m                   \u001b[0m\u001b[2;36m \u001b[0m\u001b[34mINFO    \u001b[0m Caliration file: \u001b[35m/Volumes/Samsung_T5/\u001b[0m\u001b[95mDATA\u001b[0m BA \u001b]8;id=383793;file:///Users/federicoclaudi/Documents/Github/APA_setup/analysis/process_data.py\u001b\\\u001b[2mprocess_data.py\u001b[0m\u001b]8;;\u001b\\\u001b[2m:\u001b[0m\u001b]8;id=138711;file:///Users/federicoclaudi/Documents/Github/APA_setup/analysis/process_data.py#116\u001b\\\u001b[2m116\u001b[0m\u001b]8;;\u001b\\\n",
       "                             CKUP/Egzona/Forceplate/forceplatesensors_cal                    \n",
       "                             ibration4.csv.                                                  \n"
      ]
     },
     "metadata": {},
     "output_type": "display_data"
    },
    {
     "data": {
      "text/html": [
       "<pre style=\"white-space:pre;overflow-x:auto;line-height:normal;font-family:Menlo,'DejaVu Sans Mono',consolas,'Courier New',monospace\"><span style=\"color: #7fbfbf; text-decoration-color: #7fbfbf\">                    </span><span style=\"color: #000080; text-decoration-color: #000080\">INFO    </span> Loading previously saved data from:           <a href=\"file:///Users/federicoclaudi/Documents/Github/APA_setup/analysis/process_data.py\"><span style=\"color: #7f7f7f; text-decoration-color: #7f7f7f\">process_data.py</span></a><span style=\"color: #7f7f7f; text-decoration-color: #7f7f7f\">:</span><a href=\"file:///Users/federicoclaudi/Documents/Github/APA_setup/analysis/process_data.py#93\"><span style=\"color: #7f7f7f; text-decoration-color: #7f7f7f\">93</span></a>\n",
       "                             <span style=\"color: #800080; text-decoration-color: #800080\">/Volumes/Samsung_T5/</span><span style=\"color: #ff00ff; text-decoration-color: #ff00ff\">DATA</span>                                        \n",
       "                             BACKUP/Egzona/Forceplate/CURRENT ANALYSIS                       \n",
       "                             TRIALS/data.h5                                                  \n",
       "</pre>\n"
      ],
      "text/plain": [
       "\u001b[2;36m                   \u001b[0m\u001b[2;36m \u001b[0m\u001b[34mINFO    \u001b[0m Loading previously saved data from:           \u001b]8;id=619635;file:///Users/federicoclaudi/Documents/Github/APA_setup/analysis/process_data.py\u001b\\\u001b[2mprocess_data.py\u001b[0m\u001b]8;;\u001b\\\u001b[2m:\u001b[0m\u001b]8;id=578562;file:///Users/federicoclaudi/Documents/Github/APA_setup/analysis/process_data.py#93\u001b\\\u001b[2m93\u001b[0m\u001b]8;;\u001b\\\n",
       "                             \u001b[35m/Volumes/Samsung_T5/\u001b[0m\u001b[95mDATA\u001b[0m                                        \n",
       "                             BACKUP/Egzona/Forceplate/CURRENT ANALYSIS                       \n",
       "                             TRIALS/data.h5                                                  \n"
      ]
     },
     "metadata": {},
     "output_type": "display_data"
    },
    {
     "data": {
      "text/html": [
       "<pre style=\"white-space:pre;overflow-x:auto;line-height:normal;font-family:Menlo,'DejaVu Sans Mono',consolas,'Courier New',monospace\"><span style=\"color: #7fbfbf; text-decoration-color: #7fbfbf\">                    </span><span style=\"color: #000080; text-decoration-color: #000080\">INFO    </span> Loaded <span style=\"color: #008080; text-decoration-color: #008080; font-weight: bold\">61</span> trials -----                        <a href=\"file:///Users/federicoclaudi/Documents/Github/APA_setup/analysis/process_data.py\"><span style=\"color: #7f7f7f; text-decoration-color: #7f7f7f\">process_data.py</span></a><span style=\"color: #7f7f7f; text-decoration-color: #7f7f7f\">:</span><a href=\"file:///Users/federicoclaudi/Documents/Github/APA_setup/analysis/process_data.py#95\"><span style=\"color: #7f7f7f; text-decoration-color: #7f7f7f\">95</span></a>\n",
       "                                                                                             \n",
       "                                                                                             \n",
       "</pre>\n"
      ],
      "text/plain": [
       "\u001b[2;36m                   \u001b[0m\u001b[2;36m \u001b[0m\u001b[34mINFO    \u001b[0m Loaded \u001b[1;36m61\u001b[0m trials -----                        \u001b]8;id=345804;file:///Users/federicoclaudi/Documents/Github/APA_setup/analysis/process_data.py\u001b\\\u001b[2mprocess_data.py\u001b[0m\u001b]8;;\u001b\\\u001b[2m:\u001b[0m\u001b]8;id=307244;file:///Users/federicoclaudi/Documents/Github/APA_setup/analysis/process_data.py#95\u001b\\\u001b[2m95\u001b[0m\u001b]8;;\u001b\\\n",
       "                                                                                             \n",
       "                                                                                             \n"
      ]
     },
     "metadata": {},
     "output_type": "display_data"
    }
   ],
   "source": [
    "import sys\n",
    "import matplotlib.pyplot as plt\n",
    "from scipy.stats import ttest_ind as ttest\n",
    "import pandas as pd\n",
    "from sklearn.preprocessing import StandardScaler\n",
    "\n",
    "\n",
    "import numpy as np\n",
    "import os\n",
    "from sklearn.decomposition import PCA\n",
    "from mpl_toolkits import mplot3d\n",
    "basepath = \"/Users/federicoclaudi/Documents/Github/APA_setup\"\n",
    "os.chdir(basepath)\n",
    "\n",
    "sys.path.append(\"./\")\n",
    "sys.path.append(basepath)\n",
    "sys.path.append(os.path.join(basepath, \"analysis\"))\n",
    "\n",
    "\n",
    "from fcutils.plot.distributions import plot_kde\n",
    "from fcutils.plot.figure import clean_axes\n",
    "from analysis.process_data import DataProcessing\n",
    "from analysis.fixtures import colors, sensors\n",
    "from myterial import indigo, blue_grey_dark, salmon, cyan_dark\n",
    "\n",
    "data = DataProcessing.reload()\n",
    "\n",
    "data = data.data.loc[data.data.condition == \"WT\"].reset_index()\n"
   ]
  },
  {
   "cell_type": "code",
   "execution_count": 2,
   "metadata": {},
   "outputs": [],
   "source": [
    "def get_traces(condition_trials:pd.DataFrame, t0=85, t1=140, subtractbl=True)->np.ndarray:\n",
    "    \"\"\"\n",
    "        Get traces for all trials in a condition between the\n",
    "        two reference frames. Returns an array of shape (4, n_frames, n_trials).\n",
    "    \"\"\"\n",
    "    traces = np.zeros((4, t1 - t0, len(condition_trials)))\n",
    "\n",
    "    for i, trial in condition_trials.iterrows():\n",
    "        for n, paw in enumerate(sensors):\n",
    "            bl = np.mean(trial[paw][0:85]) if subtractbl else 0\n",
    "            traces[n, :, i] = trial[paw][t0:t1] -  bl  # remove baseline\n",
    "\n",
    "    return traces\n",
    "\n"
   ]
  },
  {
   "cell_type": "code",
   "execution_count": 20,
   "metadata": {},
   "outputs": [],
   "source": [
    "\n",
    "# frames ranges for cutting traces\n",
    "trial_start_frame = 0\n",
    "trial_end_frame = 239\n",
    "APA_start_frame = 85\n",
    "\n",
    "wt_traces_complete = get_traces(data, t0=trial_start_frame, t1=trial_end_frame, subtractbl=False)\n",
    "\n",
    "time_frames = np.arange(trial_start_frame - 120, trial_end_frame - 120, 1)\n"
   ]
  },
  {
   "cell_type": "code",
   "execution_count": 45,
   "metadata": {},
   "outputs": [
    {
     "data": {
      "text/html": [
       "<pre style=\"white-space:pre;overflow-x:auto;line-height:normal;font-family:Menlo,'DejaVu Sans Mono',consolas,'Courier New',monospace\"><span style=\"color: #008080; text-decoration-color: #008080; font-weight: bold\">600</span>\n",
       "</pre>\n"
      ],
      "text/plain": [
       "\u001b[1;36m600\u001b[0m\n"
      ]
     },
     "metadata": {},
     "output_type": "display_data"
    }
   ],
   "source": [
    "\n"
   ]
  },
  {
   "cell_type": "code",
   "execution_count": 53,
   "metadata": {},
   "outputs": [],
   "source": [
    "from scipy import optimize\n",
    "\n",
    "\n",
    "def ms2frame(ms):\n",
    "    return int(ms / 1000 * 600)\n",
    "\n",
    "def frame2ms(frame):\n",
    "    return frame / 600 * 1000\n",
    "\n",
    "def segments_fit(X, Y, count):\n",
    "    \"\"\"\n",
    "        from https://gist.github.com/ruoyu0088/70effade57483355bbd18b31dc370f2a\n",
    "    \"\"\"\n",
    "    xmin = X.min()\n",
    "    xmax = X.max()\n",
    "\n",
    "    seg = np.full(count - 1, (xmax - xmin) / count)\n",
    "\n",
    "    px_init = np.r_[np.r_[xmin, seg].cumsum(), xmax]\n",
    "    py_init = np.array([Y[np.abs(X - x) < (xmax - xmin) * 0.01].mean() for x in px_init])\n",
    "\n",
    "    def func(p):\n",
    "        seg = p[:count - 1]\n",
    "        py = p[count - 1:]\n",
    "        px = np.r_[np.r_[xmin, seg].cumsum(), xmax]\n",
    "        return px, py\n",
    "\n",
    "    def err(p):\n",
    "        px, py = func(p)\n",
    "        Y2 = np.interp(X, px, py)\n",
    "        return np.mean((Y - Y2)**2)\n",
    "\n",
    "    r = optimize.minimize(err, x0=np.r_[seg, py_init], method='Nelder-Mead')\n",
    "    return func(r.x)\n"
   ]
  },
  {
   "cell_type": "code",
   "execution_count": 69,
   "metadata": {},
   "outputs": [
    {
     "data": {
      "image/png": "[encoded data removed]"
     },
     "metadata": {
      "needs_background": "light"
     },
     "output_type": "display_data"
    }
   ],
   "source": [
    "f, ax = plt.subplots(figsize=(10, 10),)\n",
    "\n",
    "\n",
    "durations = []\n",
    "for n, trial in enumerate(range(wt_traces_complete.shape[-1])):\n",
    "    y = wt_traces_complete[1, :, trial]\n",
    "    \n",
    "    # scale y between 0, 1\n",
    "    y = (y - y.min()) / (y.max() - y.min())\n",
    "    ax.plot(time_frames, y, color=\"black\", lw=2, alpha=.25)\n",
    "\n",
    "    # fit a piece-wise linear curve\n",
    "    px, py = segments_fit(time_frames, y, 3)\n",
    "    ax.plot(px, py, \"-o\", color=indigo, alpha=1, lw=2)\n",
    "    durations.append(px[2] - px[1])\n",
    "\n",
    "    break\n",
    "\n",
    "    \n",
    "\n",
    "\n",
    "# axarr[0].set(ylabel=\"weight norm.\", title=\"FL\")\n",
    "# axarr[1].set(title=\"FR\")\n",
    "# axarr[2].set(xlabel=\"time (frames)\", ylabel=\"weight norm.\", title=\"HL\")\n",
    "# axarr[3].set(xlabel=\"time (frames)\", title=\"HR\")\n",
    "\n",
    "# axarr[0].legend()"
   ]
  },
  {
   "cell_type": "markdown",
   "metadata": {},
   "source": [
    "### plot durations"
   ]
  },
  {
   "cell_type": "code",
   "execution_count": 66,
   "metadata": {},
   "outputs": [
    {
     "name": "stdout",
     "output_type": "stream",
     "text": [
      "low 6.290 ms high 208.333 ms, mean 87.918 ms, median 76.564 ms, std: 61.430 ms\n"
     ]
    },
    {
     "data": {
      "text/html": [
       "<pre style=\"white-space:pre;overflow-x:auto;line-height:normal;font-family:Menlo,'DejaVu Sans Mono',consolas,'Courier New',monospace\"><span style=\"font-weight: bold\">&lt;</span><span style=\"color: #ff00ff; text-decoration-color: #ff00ff; font-weight: bold\">matplotlib.collections.PathCollection</span><span style=\"color: #000000; text-decoration-color: #000000\"> object at </span><span style=\"color: #008080; text-decoration-color: #008080; font-weight: bold\">0x7fe7e1f19b50</span><span style=\"font-weight: bold\">&gt;</span>\n",
       "</pre>\n"
      ],
      "text/plain": [
       "\u001b[1m<\u001b[0m\u001b[1;95mmatplotlib.collections.PathCollection\u001b[0m\u001b[39m object at \u001b[0m\u001b[1;36m0x7fe7e1f19b50\u001b[0m\u001b[1m>\u001b[0m\n"
      ]
     },
     "metadata": {},
     "output_type": "display_data"
    },
    {
     "data": {
      "image/png": "[encoded data removed]"
     },
     "metadata": {
      "needs_background": "light"
     },
     "output_type": "display_data"
    }
   ],
   "source": [
    "f, ax = plt.subplots()\n",
    "\n",
    "durations_ms = [frame2ms(d) for d in durations]\n",
    "\n",
    "low, high = np.percentile(durations_ms, [5, 95])\n",
    "print(f\"low {low:.3f} ms high {high:.3f} ms, mean {np.mean(durations_ms):.3f} ms, median {np.median(durations_ms):.3f} ms, std: {np.std(durations_ms):.3f} ms\")\n",
    "\n",
    "ax.hist(durations_ms, bins=25, color=indigo)\n",
    "ax.plot([low, high], [-1, -1], \"-\", color=\"black\", lw=2)\n",
    "ax.scatter(np.median(durations_ms), -1, color=\"white\", lw=1, ec=\"black\", zorder=100,  s=75)"
   ]
  }
 ],
 "metadata": {
  "kernelspec": {
   "display_name": "Python 3.8.0 ('dev')",
   "language": "python",
   "name": "python3"
  },
  "language_info": {
   "codemirror_mode": {
    "name": "ipython",
    "version": 3
   },
   "file_extension": ".py",
   "mimetype": "text/x-python",
   "name": "python",
   "nbconvert_exporter": "python",
   "pygments_lexer": "ipython3",
   "version": "3.8.0"
  },
  "orig_nbformat": 4,
  "vscode": {
   "interpreter": {
    "hash": "039254c3bf28b439bc8200e57bee2d086959ba51774bc2777c0d6429726181b2"
   }
  }
 },
 "nbformat": 4,
 "nbformat_minor": 2
}
