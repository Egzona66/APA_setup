{
 "cells": [
  {
   "cell_type": "markdown",
   "metadata": {},
   "source": [
    "# Estimate APA duration.\n",
    "\n",
    "Analysis aiming to show that the interesting part of APAs lasts 60ms\n",
    "\n",
    "To do this, we take the trace for the FR at each trial. \n",
    "We fit a 3-segment piece-wise linear curve to it.\n",
    "We look at the middle segment (corresponding to when the mouse lifts the paw) and it's extent in time. "
   ]
  },
  {
   "cell_type": "code",
   "execution_count": 147,
   "metadata": {},
   "outputs": [
    {
     "data": {
      "text/html": [
       "<pre style=\"white-space:pre;overflow-x:auto;line-height:normal;font-family:Menlo,'DejaVu Sans Mono',consolas,'Courier New',monospace\"><span style=\"color: #7fbfbf; text-decoration-color: #7fbfbf\">[07/10/22 15:53:18] </span><span style=\"color: #000080; text-decoration-color: #000080\">INFO    </span> Starting data pre-processing with trials     <a href=\"file://C:\\Users\\Federico\\Documents\\GitHub\\APA_setup\\analysis\\process_data.py\" target=\"_blank\"><span style=\"color: #7f7f7f; text-decoration-color: #7f7f7f\">process_data.py</span></a><span style=\"color: #7f7f7f; text-decoration-color: #7f7f7f\">:</span><a href=\"file://C:\\Users\\Federico\\Documents\\GitHub\\APA_setup\\analysis\\process_data.py#113\" target=\"_blank\"><span style=\"color: #7f7f7f; text-decoration-color: #7f7f7f\">113</span></a>\n",
       "<span style=\"color: #7fbfbf; text-decoration-color: #7fbfbf\">                    </span>         file: F:\\Egzona\\Forceplate\\CURRENT ANALYSIS  <span style=\"color: #7f7f7f; text-decoration-color: #7f7f7f\">                   </span>\n",
       "<span style=\"color: #7fbfbf; text-decoration-color: #7fbfbf\">                    </span>         TRIALS\\PRN2_DREADDs_clipsframes1.csv.        <span style=\"color: #7f7f7f; text-decoration-color: #7f7f7f\">                   </span>\n",
       "</pre>\n"
      ],
      "text/plain": [
       "\u001b[2;36m[07/10/22 15:53:18]\u001b[0m\u001b[2;36m \u001b[0m\u001b[34mINFO    \u001b[0m Starting data pre-processing with trials     \u001b]8;id=463408;file://C:\\Users\\Federico\\Documents\\GitHub\\APA_setup\\analysis\\process_data.py\u001b\\\u001b[2mprocess_data.py\u001b[0m\u001b]8;;\u001b\\\u001b[2m:\u001b[0m\u001b]8;id=651242;file://C:\\Users\\Federico\\Documents\\GitHub\\APA_setup\\analysis\\process_data.py#113\u001b\\\u001b[2m113\u001b[0m\u001b]8;;\u001b\\\n",
       "\u001b[2;36m                    \u001b[0m         file: F:\\Egzona\\Forceplate\\CURRENT ANALYSIS  \u001b[2m                   \u001b[0m\n",
       "\u001b[2;36m                    \u001b[0m         TRIALS\\PRN2_DREADDs_clipsframes1.csv.        \u001b[2m                   \u001b[0m\n"
      ]
     },
     "metadata": {},
     "output_type": "display_data"
    },
    {
     "data": {
      "text/html": [
       "<pre style=\"white-space:pre;overflow-x:auto;line-height:normal;font-family:Menlo,'DejaVu Sans Mono',consolas,'Courier New',monospace\"><span style=\"color: #7fbfbf; text-decoration-color: #7fbfbf\">                    </span><span style=\"color: #000080; text-decoration-color: #000080\">INFO    </span> Caliration file: F:\\Egzona\\Forceplate\\forcep <a href=\"file://C:\\Users\\Federico\\Documents\\GitHub\\APA_setup\\analysis\\process_data.py\" target=\"_blank\"><span style=\"color: #7f7f7f; text-decoration-color: #7f7f7f\">process_data.py</span></a><span style=\"color: #7f7f7f; text-decoration-color: #7f7f7f\">:</span><a href=\"file://C:\\Users\\Federico\\Documents\\GitHub\\APA_setup\\analysis\\process_data.py#116\" target=\"_blank\"><span style=\"color: #7f7f7f; text-decoration-color: #7f7f7f\">116</span></a>\n",
       "<span style=\"color: #7fbfbf; text-decoration-color: #7fbfbf\">                    </span>         latesensors_calibration4.csv.                <span style=\"color: #7f7f7f; text-decoration-color: #7f7f7f\">                   </span>\n",
       "</pre>\n"
      ],
      "text/plain": [
       "\u001b[2;36m                   \u001b[0m\u001b[2;36m \u001b[0m\u001b[34mINFO    \u001b[0m Caliration file: F:\\Egzona\\Forceplate\\forcep \u001b]8;id=950936;file://C:\\Users\\Federico\\Documents\\GitHub\\APA_setup\\analysis\\process_data.py\u001b\\\u001b[2mprocess_data.py\u001b[0m\u001b]8;;\u001b\\\u001b[2m:\u001b[0m\u001b]8;id=766469;file://C:\\Users\\Federico\\Documents\\GitHub\\APA_setup\\analysis\\process_data.py#116\u001b\\\u001b[2m116\u001b[0m\u001b]8;;\u001b\\\n",
       "\u001b[2;36m                    \u001b[0m         latesensors_calibration4.csv.                \u001b[2m                   \u001b[0m\n"
      ]
     },
     "metadata": {},
     "output_type": "display_data"
    },
    {
     "data": {
      "text/html": [
       "<pre style=\"white-space:pre;overflow-x:auto;line-height:normal;font-family:Menlo,'DejaVu Sans Mono',consolas,'Courier New',monospace\"><span style=\"color: #7fbfbf; text-decoration-color: #7fbfbf\">                    </span><span style=\"color: #000080; text-decoration-color: #000080\">INFO    </span> Found <span style=\"color: #008080; text-decoration-color: #008080; font-weight: bold\">9</span> subfolders                            <a href=\"file://C:\\Users\\Federico\\Documents\\GitHub\\APA_setup\\analysis\\process_data.py\" target=\"_blank\"><span style=\"color: #7f7f7f; text-decoration-color: #7f7f7f\">process_data.py</span></a><span style=\"color: #7f7f7f; text-decoration-color: #7f7f7f\">:</span><a href=\"file://C:\\Users\\Federico\\Documents\\GitHub\\APA_setup\\analysis\\process_data.py#54\" target=\"_blank\"><span style=\"color: #7f7f7f; text-decoration-color: #7f7f7f\">54</span></a>\n",
       "</pre>\n"
      ],
      "text/plain": [
       "\u001b[2;36m                   \u001b[0m\u001b[2;36m \u001b[0m\u001b[34mINFO    \u001b[0m Found \u001b[1;36m9\u001b[0m subfolders                            \u001b]8;id=363314;file://C:\\Users\\Federico\\Documents\\GitHub\\APA_setup\\analysis\\process_data.py\u001b\\\u001b[2mprocess_data.py\u001b[0m\u001b]8;;\u001b\\\u001b[2m:\u001b[0m\u001b]8;id=415440;file://C:\\Users\\Federico\\Documents\\GitHub\\APA_setup\\analysis\\process_data.py#54\u001b\\\u001b[2m54\u001b[0m\u001b]8;;\u001b\\\n"
      ]
     },
     "metadata": {},
     "output_type": "display_data"
    },
    {
     "data": {
      "text/html": [
       "<pre style=\"white-space:pre;overflow-x:auto;line-height:normal;font-family:Menlo,'DejaVu Sans Mono',consolas,'Courier New',monospace\"><span style=\"color: #7fbfbf; text-decoration-color: #7fbfbf\">                    </span><span style=\"color: #008000; text-decoration-color: #008000\">DEBUG   </span> Setting previously stored params: <span style=\"font-weight: bold\">{</span><span style=\"color: #008000; text-decoration-color: #008000\">'DEBUG'</span>:   <a href=\"file://C:\\Users\\Federico\\Documents\\GitHub\\APA_setup\\analysis\\process_data.py\" target=\"_blank\"><span style=\"color: #7f7f7f; text-decoration-color: #7f7f7f\">process_data.py</span></a><span style=\"color: #7f7f7f; text-decoration-color: #7f7f7f\">:</span><a href=\"file://C:\\Users\\Federico\\Documents\\GitHub\\APA_setup\\analysis\\process_data.py#89\" target=\"_blank\"><span style=\"color: #7f7f7f; text-decoration-color: #7f7f7f\">89</span></a>\n",
       "<span style=\"color: #7fbfbf; text-decoration-color: #7fbfbf\">                    </span>         <span style=\"color: #00ff00; text-decoration-color: #00ff00; font-style: italic\">True</span>, <span style=\"color: #008000; text-decoration-color: #008000\">'CONDITIONS'</span>: <span style=\"font-weight: bold\">[</span><span style=\"color: #008000; text-decoration-color: #008000\">'WT'</span>, <span style=\"color: #008000; text-decoration-color: #008000\">'CTRL'</span>, <span style=\"color: #008000; text-decoration-color: #008000\">'DTR'</span>,     <span style=\"color: #7f7f7f; text-decoration-color: #7f7f7f\">                  </span>\n",
       "<span style=\"color: #7fbfbf; text-decoration-color: #7fbfbf\">                    </span>         <span style=\"color: #008000; text-decoration-color: #008000\">'CNO'</span><span style=\"font-weight: bold\">]</span>, <span style=\"color: #008000; text-decoration-color: #008000\">'STRAIN'</span>: <span style=\"font-weight: bold\">[</span><span style=\"color: #008000; text-decoration-color: #008000\">'C57'</span>, <span style=\"color: #008000; text-decoration-color: #008000\">'VGLUT'</span><span style=\"font-weight: bold\">]</span>,           <span style=\"color: #7f7f7f; text-decoration-color: #7f7f7f\">                  </span>\n",
       "<span style=\"color: #7fbfbf; text-decoration-color: #7fbfbf\">                    </span>         <span style=\"color: #008000; text-decoration-color: #008000\">'STANDING_STILL'</span>: <span style=\"color: #ff0000; text-decoration-color: #ff0000; font-style: italic\">False</span>, <span style=\"color: #008000; text-decoration-color: #008000\">'calibrate'</span>: <span style=\"color: #00ff00; text-decoration-color: #00ff00; font-style: italic\">True</span>,   <span style=\"color: #7f7f7f; text-decoration-color: #7f7f7f\">                  </span>\n",
       "<span style=\"color: #7fbfbf; text-decoration-color: #7fbfbf\">                    </span>         <span style=\"color: #008000; text-decoration-color: #008000\">'weight_percentage'</span>: <span style=\"color: #00ff00; text-decoration-color: #00ff00; font-style: italic\">True</span>, <span style=\"color: #008000; text-decoration-color: #008000\">'correct_for_paw'</span>: <span style=\"color: #7f7f7f; text-decoration-color: #7f7f7f\">                  </span>\n",
       "<span style=\"color: #7fbfbf; text-decoration-color: #7fbfbf\">                    </span>         <span style=\"color: #00ff00; text-decoration-color: #00ff00; font-style: italic\">True</span>, <span style=\"color: #008000; text-decoration-color: #008000\">'frames_file'</span>:                          <span style=\"color: #7f7f7f; text-decoration-color: #7f7f7f\">                  </span>\n",
       "<span style=\"color: #7fbfbf; text-decoration-color: #7fbfbf\">                    </span>         <span style=\"color: #008000; text-decoration-color: #008000\">'F:\\\\Egzona\\\\Forceplate\\\\CURRENT ANALYSIS </span>    <span style=\"color: #7f7f7f; text-decoration-color: #7f7f7f\">                  </span>\n",
       "<span style=\"color: #7fbfbf; text-decoration-color: #7fbfbf\">                    </span>         <span style=\"color: #008000; text-decoration-color: #008000\">TRIALS\\\\PRN2_DREADDs_clipsframes1.csv'</span>,       <span style=\"color: #7f7f7f; text-decoration-color: #7f7f7f\">                  </span>\n",
       "<span style=\"color: #7fbfbf; text-decoration-color: #7fbfbf\">                    </span>         <span style=\"color: #008000; text-decoration-color: #008000\">'calibration_file'</span>: <span style=\"color: #008000; text-decoration-color: #008000\">'F:\\\\Egzona\\\\Forceplate\\\\</span> <span style=\"color: #7f7f7f; text-decoration-color: #7f7f7f\">                  </span>\n",
       "<span style=\"color: #7fbfbf; text-decoration-color: #7fbfbf\">                    </span>         <span style=\"color: #008000; text-decoration-color: #008000\">forceplatesensors_calibration4.csv'</span>,          <span style=\"color: #7f7f7f; text-decoration-color: #7f7f7f\">                  </span>\n",
       "<span style=\"color: #7fbfbf; text-decoration-color: #7fbfbf\">                    </span>         <span style=\"color: #008000; text-decoration-color: #008000\">'main_fld'</span>:                                   <span style=\"color: #7f7f7f; text-decoration-color: #7f7f7f\">                  </span>\n",
       "<span style=\"color: #7fbfbf; text-decoration-color: #7fbfbf\">                    </span>         <span style=\"color: #008000; text-decoration-color: #008000\">'F:\\\\Egzona\\\\Forceplate\\\\2021\\\\DREADDs'</span>,      <span style=\"color: #7f7f7f; text-decoration-color: #7f7f7f\">                  </span>\n",
       "<span style=\"color: #7fbfbf; text-decoration-color: #7fbfbf\">                    </span>         <span style=\"color: #008000; text-decoration-color: #008000\">'fps'</span>: <span style=\"color: #008080; text-decoration-color: #008080; font-weight: bold\">600</span>, <span style=\"color: #008000; text-decoration-color: #008000\">'smoothing_window'</span>: <span style=\"color: #008080; text-decoration-color: #008080; font-weight: bold\">0.01</span>,         <span style=\"color: #7f7f7f; text-decoration-color: #7f7f7f\">                  </span>\n",
       "<span style=\"color: #7fbfbf; text-decoration-color: #7fbfbf\">                    </span>         <span style=\"color: #008000; text-decoration-color: #008000\">'on_sensor_weight_th'</span>: <span style=\"color: #008080; text-decoration-color: #008080; font-weight: bold\">2</span>,                     <span style=\"color: #7f7f7f; text-decoration-color: #7f7f7f\">                  </span>\n",
       "<span style=\"color: #7fbfbf; text-decoration-color: #7fbfbf\">                    </span>         <span style=\"color: #008000; text-decoration-color: #008000\">'on_all_sensors_weight_th'</span>: <span style=\"color: #008080; text-decoration-color: #008080; font-weight: bold\">66</span>,               <span style=\"color: #7f7f7f; text-decoration-color: #7f7f7f\">                  </span>\n",
       "<span style=\"color: #7fbfbf; text-decoration-color: #7fbfbf\">                    </span>         <span style=\"color: #008000; text-decoration-color: #008000\">'n_secs_before'</span>: <span style=\"color: #008080; text-decoration-color: #008080; font-weight: bold\">0.2</span>, <span style=\"color: #008000; text-decoration-color: #008000\">'n_secs_after'</span>: <span style=\"color: #008080; text-decoration-color: #008080; font-weight: bold\">0.2</span>,    <span style=\"color: #7f7f7f; text-decoration-color: #7f7f7f\">                  </span>\n",
       "<span style=\"color: #7fbfbf; text-decoration-color: #7fbfbf\">                    </span>         <span style=\"color: #008000; text-decoration-color: #008000\">'min_baseline_duration'</span>: <span style=\"color: #008080; text-decoration-color: #008080; font-weight: bold\">0</span>,                   <span style=\"color: #7f7f7f; text-decoration-color: #7f7f7f\">                  </span>\n",
       "<span style=\"color: #7fbfbf; text-decoration-color: #7fbfbf\">                    </span>         <span style=\"color: #008000; text-decoration-color: #008000\">'trial_start_detection_window'</span>: <span style=\"color: #008080; text-decoration-color: #008080; font-weight: bold\">0.15</span>,         <span style=\"color: #7f7f7f; text-decoration-color: #7f7f7f\">                  </span>\n",
       "<span style=\"color: #7fbfbf; text-decoration-color: #7fbfbf\">                    </span>         <span style=\"color: #008000; text-decoration-color: #008000\">'plot_individual_trials'</span>: <span style=\"color: #ff0000; text-decoration-color: #ff0000; font-style: italic\">False</span><span style=\"font-weight: bold\">}</span>              <span style=\"color: #7f7f7f; text-decoration-color: #7f7f7f\">                  </span>\n",
       "</pre>\n"
      ],
      "text/plain": [
       "\u001b[2;36m                   \u001b[0m\u001b[2;36m \u001b[0m\u001b[32mDEBUG   \u001b[0m Setting previously stored params: \u001b[1m{\u001b[0m\u001b[32m'DEBUG'\u001b[0m:   \u001b]8;id=719924;file://C:\\Users\\Federico\\Documents\\GitHub\\APA_setup\\analysis\\process_data.py\u001b\\\u001b[2mprocess_data.py\u001b[0m\u001b]8;;\u001b\\\u001b[2m:\u001b[0m\u001b]8;id=937949;file://C:\\Users\\Federico\\Documents\\GitHub\\APA_setup\\analysis\\process_data.py#89\u001b\\\u001b[2m89\u001b[0m\u001b]8;;\u001b\\\n",
       "\u001b[2;36m                    \u001b[0m         \u001b[3;92mTrue\u001b[0m, \u001b[32m'CONDITIONS'\u001b[0m: \u001b[1m[\u001b[0m\u001b[32m'WT'\u001b[0m, \u001b[32m'CTRL'\u001b[0m, \u001b[32m'DTR'\u001b[0m,     \u001b[2m                  \u001b[0m\n",
       "\u001b[2;36m                    \u001b[0m         \u001b[32m'CNO'\u001b[0m\u001b[1m]\u001b[0m, \u001b[32m'STRAIN'\u001b[0m: \u001b[1m[\u001b[0m\u001b[32m'C57'\u001b[0m, \u001b[32m'VGLUT'\u001b[0m\u001b[1m]\u001b[0m,           \u001b[2m                  \u001b[0m\n",
       "\u001b[2;36m                    \u001b[0m         \u001b[32m'STANDING_STILL'\u001b[0m: \u001b[3;91mFalse\u001b[0m, \u001b[32m'calibrate'\u001b[0m: \u001b[3;92mTrue\u001b[0m,   \u001b[2m                  \u001b[0m\n",
       "\u001b[2;36m                    \u001b[0m         \u001b[32m'weight_percentage'\u001b[0m: \u001b[3;92mTrue\u001b[0m, \u001b[32m'correct_for_paw'\u001b[0m: \u001b[2m                  \u001b[0m\n",
       "\u001b[2;36m                    \u001b[0m         \u001b[3;92mTrue\u001b[0m, \u001b[32m'frames_file'\u001b[0m:                          \u001b[2m                  \u001b[0m\n",
       "\u001b[2;36m                    \u001b[0m         \u001b[32m'F:\\\\Egzona\\\\Forceplate\\\\CURRENT ANALYSIS \u001b[0m    \u001b[2m                  \u001b[0m\n",
       "\u001b[2;36m                    \u001b[0m         \u001b[32mTRIALS\\\\PRN2_DREADDs_clipsframes1.csv'\u001b[0m,       \u001b[2m                  \u001b[0m\n",
       "\u001b[2;36m                    \u001b[0m         \u001b[32m'calibration_file'\u001b[0m: \u001b[32m'F:\\\\Egzona\\\\Forceplate\\\\\u001b[0m \u001b[2m                  \u001b[0m\n",
       "\u001b[2;36m                    \u001b[0m         \u001b[32mforceplatesensors_calibration4.csv'\u001b[0m,          \u001b[2m                  \u001b[0m\n",
       "\u001b[2;36m                    \u001b[0m         \u001b[32m'main_fld'\u001b[0m:                                   \u001b[2m                  \u001b[0m\n",
       "\u001b[2;36m                    \u001b[0m         \u001b[32m'F:\\\\Egzona\\\\Forceplate\\\\2021\\\\DREADDs'\u001b[0m,      \u001b[2m                  \u001b[0m\n",
       "\u001b[2;36m                    \u001b[0m         \u001b[32m'fps'\u001b[0m: \u001b[1;36m600\u001b[0m, \u001b[32m'smoothing_window'\u001b[0m: \u001b[1;36m0.01\u001b[0m,         \u001b[2m                  \u001b[0m\n",
       "\u001b[2;36m                    \u001b[0m         \u001b[32m'on_sensor_weight_th'\u001b[0m: \u001b[1;36m2\u001b[0m,                     \u001b[2m                  \u001b[0m\n",
       "\u001b[2;36m                    \u001b[0m         \u001b[32m'on_all_sensors_weight_th'\u001b[0m: \u001b[1;36m66\u001b[0m,               \u001b[2m                  \u001b[0m\n",
       "\u001b[2;36m                    \u001b[0m         \u001b[32m'n_secs_before'\u001b[0m: \u001b[1;36m0.2\u001b[0m, \u001b[32m'n_secs_after'\u001b[0m: \u001b[1;36m0.2\u001b[0m,    \u001b[2m                  \u001b[0m\n",
       "\u001b[2;36m                    \u001b[0m         \u001b[32m'min_baseline_duration'\u001b[0m: \u001b[1;36m0\u001b[0m,                   \u001b[2m                  \u001b[0m\n",
       "\u001b[2;36m                    \u001b[0m         \u001b[32m'trial_start_detection_window'\u001b[0m: \u001b[1;36m0.15\u001b[0m,         \u001b[2m                  \u001b[0m\n",
       "\u001b[2;36m                    \u001b[0m         \u001b[32m'plot_individual_trials'\u001b[0m: \u001b[3;91mFalse\u001b[0m\u001b[1m}\u001b[0m              \u001b[2m                  \u001b[0m\n"
      ]
     },
     "metadata": {},
     "output_type": "display_data"
    },
    {
     "data": {
      "text/html": [
       "<pre style=\"white-space:pre;overflow-x:auto;line-height:normal;font-family:Menlo,'DejaVu Sans Mono',consolas,'Courier New',monospace\"><span style=\"color: #7fbfbf; text-decoration-color: #7fbfbf\">                    </span><span style=\"color: #000080; text-decoration-color: #000080\">INFO    </span> Starting data pre-processing with trials     <a href=\"file://C:\\Users\\Federico\\Documents\\GitHub\\APA_setup\\analysis\\process_data.py\" target=\"_blank\"><span style=\"color: #7f7f7f; text-decoration-color: #7f7f7f\">process_data.py</span></a><span style=\"color: #7f7f7f; text-decoration-color: #7f7f7f\">:</span><a href=\"file://C:\\Users\\Federico\\Documents\\GitHub\\APA_setup\\analysis\\process_data.py#113\" target=\"_blank\"><span style=\"color: #7f7f7f; text-decoration-color: #7f7f7f\">113</span></a>\n",
       "<span style=\"color: #7fbfbf; text-decoration-color: #7fbfbf\">                    </span>         file: F:\\Egzona\\Forceplate\\CURRENT ANALYSIS  <span style=\"color: #7f7f7f; text-decoration-color: #7f7f7f\">                   </span>\n",
       "<span style=\"color: #7fbfbf; text-decoration-color: #7fbfbf\">                    </span>         TRIALS\\PRN2_DREADDs_clipsframes1.csv.        <span style=\"color: #7f7f7f; text-decoration-color: #7f7f7f\">                   </span>\n",
       "</pre>\n"
      ],
      "text/plain": [
       "\u001b[2;36m                   \u001b[0m\u001b[2;36m \u001b[0m\u001b[34mINFO    \u001b[0m Starting data pre-processing with trials     \u001b]8;id=189540;file://C:\\Users\\Federico\\Documents\\GitHub\\APA_setup\\analysis\\process_data.py\u001b\\\u001b[2mprocess_data.py\u001b[0m\u001b]8;;\u001b\\\u001b[2m:\u001b[0m\u001b]8;id=844668;file://C:\\Users\\Federico\\Documents\\GitHub\\APA_setup\\analysis\\process_data.py#113\u001b\\\u001b[2m113\u001b[0m\u001b]8;;\u001b\\\n",
       "\u001b[2;36m                    \u001b[0m         file: F:\\Egzona\\Forceplate\\CURRENT ANALYSIS  \u001b[2m                   \u001b[0m\n",
       "\u001b[2;36m                    \u001b[0m         TRIALS\\PRN2_DREADDs_clipsframes1.csv.        \u001b[2m                   \u001b[0m\n"
      ]
     },
     "metadata": {},
     "output_type": "display_data"
    },
    {
     "data": {
      "text/html": [
       "<pre style=\"white-space:pre;overflow-x:auto;line-height:normal;font-family:Menlo,'DejaVu Sans Mono',consolas,'Courier New',monospace\"><span style=\"color: #7fbfbf; text-decoration-color: #7fbfbf\">                    </span><span style=\"color: #000080; text-decoration-color: #000080\">INFO    </span> Caliration file: F:\\Egzona\\Forceplate\\forcep <a href=\"file://C:\\Users\\Federico\\Documents\\GitHub\\APA_setup\\analysis\\process_data.py\" target=\"_blank\"><span style=\"color: #7f7f7f; text-decoration-color: #7f7f7f\">process_data.py</span></a><span style=\"color: #7f7f7f; text-decoration-color: #7f7f7f\">:</span><a href=\"file://C:\\Users\\Federico\\Documents\\GitHub\\APA_setup\\analysis\\process_data.py#116\" target=\"_blank\"><span style=\"color: #7f7f7f; text-decoration-color: #7f7f7f\">116</span></a>\n",
       "<span style=\"color: #7fbfbf; text-decoration-color: #7fbfbf\">                    </span>         latesensors_calibration4.csv.                <span style=\"color: #7f7f7f; text-decoration-color: #7f7f7f\">                   </span>\n",
       "</pre>\n"
      ],
      "text/plain": [
       "\u001b[2;36m                   \u001b[0m\u001b[2;36m \u001b[0m\u001b[34mINFO    \u001b[0m Caliration file: F:\\Egzona\\Forceplate\\forcep \u001b]8;id=633081;file://C:\\Users\\Federico\\Documents\\GitHub\\APA_setup\\analysis\\process_data.py\u001b\\\u001b[2mprocess_data.py\u001b[0m\u001b]8;;\u001b\\\u001b[2m:\u001b[0m\u001b]8;id=745875;file://C:\\Users\\Federico\\Documents\\GitHub\\APA_setup\\analysis\\process_data.py#116\u001b\\\u001b[2m116\u001b[0m\u001b]8;;\u001b\\\n",
       "\u001b[2;36m                    \u001b[0m         latesensors_calibration4.csv.                \u001b[2m                   \u001b[0m\n"
      ]
     },
     "metadata": {},
     "output_type": "display_data"
    },
    {
     "data": {
      "text/html": [
       "<pre style=\"white-space:pre;overflow-x:auto;line-height:normal;font-family:Menlo,'DejaVu Sans Mono',consolas,'Courier New',monospace\"><span style=\"color: #7fbfbf; text-decoration-color: #7fbfbf\">                    </span><span style=\"color: #000080; text-decoration-color: #000080\">INFO    </span> Loading previously saved data from:           <a href=\"file://C:\\Users\\Federico\\Documents\\GitHub\\APA_setup\\analysis\\process_data.py\" target=\"_blank\"><span style=\"color: #7f7f7f; text-decoration-color: #7f7f7f\">process_data.py</span></a><span style=\"color: #7f7f7f; text-decoration-color: #7f7f7f\">:</span><a href=\"file://C:\\Users\\Federico\\Documents\\GitHub\\APA_setup\\analysis\\process_data.py#93\" target=\"_blank\"><span style=\"color: #7f7f7f; text-decoration-color: #7f7f7f\">93</span></a>\n",
       "<span style=\"color: #7fbfbf; text-decoration-color: #7fbfbf\">                    </span>         F:\\Egzona\\Forceplate\\<span style=\"color: #008080; text-decoration-color: #008080; font-weight: bold\">2021</span>\\DREADDs\\data.h5     <span style=\"color: #7f7f7f; text-decoration-color: #7f7f7f\">                  </span>\n",
       "</pre>\n"
      ],
      "text/plain": [
       "\u001b[2;36m                   \u001b[0m\u001b[2;36m \u001b[0m\u001b[34mINFO    \u001b[0m Loading previously saved data from:           \u001b]8;id=24999;file://C:\\Users\\Federico\\Documents\\GitHub\\APA_setup\\analysis\\process_data.py\u001b\\\u001b[2mprocess_data.py\u001b[0m\u001b]8;;\u001b\\\u001b[2m:\u001b[0m\u001b]8;id=229328;file://C:\\Users\\Federico\\Documents\\GitHub\\APA_setup\\analysis\\process_data.py#93\u001b\\\u001b[2m93\u001b[0m\u001b]8;;\u001b\\\n",
       "\u001b[2;36m                    \u001b[0m         F:\\Egzona\\Forceplate\\\u001b[1;36m2021\u001b[0m\\DREADDs\\data.h5     \u001b[2m                  \u001b[0m\n"
      ]
     },
     "metadata": {},
     "output_type": "display_data"
    },
    {
     "data": {
      "text/html": [
       "<pre style=\"white-space:pre;overflow-x:auto;line-height:normal;font-family:Menlo,'DejaVu Sans Mono',consolas,'Courier New',monospace\"><span style=\"color: #7fbfbf; text-decoration-color: #7fbfbf\">                    </span><span style=\"color: #000080; text-decoration-color: #000080\">INFO    </span> Loaded <span style=\"color: #008080; text-decoration-color: #008080; font-weight: bold\">11</span> trials -----                        <a href=\"file://C:\\Users\\Federico\\Documents\\GitHub\\APA_setup\\analysis\\process_data.py\" target=\"_blank\"><span style=\"color: #7f7f7f; text-decoration-color: #7f7f7f\">process_data.py</span></a><span style=\"color: #7f7f7f; text-decoration-color: #7f7f7f\">:</span><a href=\"file://C:\\Users\\Federico\\Documents\\GitHub\\APA_setup\\analysis\\process_data.py#95\" target=\"_blank\"><span style=\"color: #7f7f7f; text-decoration-color: #7f7f7f\">95</span></a>\n",
       "<span style=\"color: #7fbfbf; text-decoration-color: #7fbfbf\">                    </span>                                                       <span style=\"color: #7f7f7f; text-decoration-color: #7f7f7f\">                  </span>\n",
       "<span style=\"color: #7fbfbf; text-decoration-color: #7fbfbf\">                    </span>                                                       <span style=\"color: #7f7f7f; text-decoration-color: #7f7f7f\">                  </span>\n",
       "</pre>\n"
      ],
      "text/plain": [
       "\u001b[2;36m                   \u001b[0m\u001b[2;36m \u001b[0m\u001b[34mINFO    \u001b[0m Loaded \u001b[1;36m11\u001b[0m trials -----                        \u001b]8;id=394282;file://C:\\Users\\Federico\\Documents\\GitHub\\APA_setup\\analysis\\process_data.py\u001b\\\u001b[2mprocess_data.py\u001b[0m\u001b]8;;\u001b\\\u001b[2m:\u001b[0m\u001b]8;id=154374;file://C:\\Users\\Federico\\Documents\\GitHub\\APA_setup\\analysis\\process_data.py#95\u001b\\\u001b[2m95\u001b[0m\u001b]8;;\u001b\\\n",
       "\u001b[2;36m                    \u001b[0m                                                       \u001b[2m                  \u001b[0m\n",
       "\u001b[2;36m                    \u001b[0m                                                       \u001b[2m                  \u001b[0m\n"
      ]
     },
     "metadata": {},
     "output_type": "display_data"
    }
   ],
   "source": [
    "import sys\n",
    "import matplotlib.pyplot as plt\n",
    "from scipy.stats import ttest_ind as ttest\n",
    "import pandas as pd\n",
    "from sklearn.preprocessing import StandardScaler\n",
    "\n",
    "\n",
    "import numpy as np\n",
    "import os\n",
    "from sklearn.decomposition import PCA\n",
    "from mpl_toolkits import mplot3d\n",
    "\n",
    "basepath = r\"C:\\Users\\Federico\\Documents\\GitHub\\APA_setup\"\n",
    "os.chdir(basepath)\n",
    "\n",
    "sys.path.append(\"./\")\n",
    "sys.path.append(basepath)\n",
    "sys.path.append(os.path.join(basepath, \"analysis\"))\n",
    "\n",
    "\n",
    "from fcutils.plot.distributions import plot_kde\n",
    "from fcutils.plot.figure import clean_axes\n",
    "from analysis.process_data import DataProcessing\n",
    "from analysis.fixtures import colors, sensors\n",
    "from myterial import indigo, blue_grey_dark, salmon, cyan_dark\n",
    "\n",
    "data = DataProcessing.reload()\n",
    "\n"
   ]
  },
  {
   "cell_type": "markdown",
   "metadata": {},
   "source": [
    "select trials by strain/condition"
   ]
  },
  {
   "cell_type": "code",
   "execution_count": 148,
   "metadata": {},
   "outputs": [
    {
     "name": "stdout",
     "output_type": "stream",
     "text": [
      "11\n"
     ]
    }
   ],
   "source": [
    "CONDITION = \"CNO\"\n",
    "STRAIN = \"C57\"\n",
    "\n",
    "if STRAIN is not None:\n",
    "    data = data.data.loc[(data.data.condition == CONDITION)&(data.data.strain == STRAIN)].reset_index()\n",
    "else:\n",
    "    data = data.data.loc[(data.data.condition == CONDITION)].reset_index()\n",
    "    STRAIN = \"any\"\n",
    "print(len(data))\n"
   ]
  },
  {
   "cell_type": "code",
   "execution_count": 149,
   "metadata": {},
   "outputs": [],
   "source": [
    "def get_traces(condition_trials:pd.DataFrame, t0=85, t1=140, subtractbl=True)->np.ndarray:\n",
    "    \"\"\"\n",
    "        Get traces for all trials in a condition between the\n",
    "        two reference frames. Returns an array of shape (4, n_frames, n_trials).\n",
    "    \"\"\"\n",
    "    traces = np.zeros((4, t1 - t0, len(condition_trials)))\n",
    "\n",
    "    for i, trial in condition_trials.iterrows():\n",
    "        for n, paw in enumerate(sensors):\n",
    "            bl = np.mean(trial[paw][0:85]) if subtractbl else 0\n",
    "            traces[n, :, i] = trial[paw][t0:t1] -  bl  # remove baseline\n",
    "\n",
    "    return traces\n",
    "\n"
   ]
  },
  {
   "cell_type": "code",
   "execution_count": 150,
   "metadata": {},
   "outputs": [],
   "source": [
    "\n",
    "# frames ranges for cutting traces\n",
    "trial_start_frame = 0\n",
    "trial_end_frame = 239\n",
    "APA_start_frame = 85\n",
    "\n",
    "wt_traces_complete = get_traces(data, t0=trial_start_frame, t1=trial_end_frame, subtractbl=False)\n",
    "\n",
    "time_frames = np.arange(trial_start_frame - 120, trial_end_frame - 120, 1)\n"
   ]
  },
  {
   "cell_type": "code",
   "execution_count": 151,
   "metadata": {},
   "outputs": [],
   "source": [
    "from scipy import optimize\n",
    "\n",
    "\n",
    "def ms2frame(ms):\n",
    "    return int(ms / 1000 * 600)\n",
    "\n",
    "def frame2ms(frame):\n",
    "    return frame / 600 * 1000\n",
    "\n",
    "def segments_fit(X, Y, count):\n",
    "    \"\"\"\n",
    "        from https://gist.github.com/ruoyu0088/70effade57483355bbd18b31dc370f2a\n",
    "    \"\"\"\n",
    "    xmin = X.min()\n",
    "    xmax = X.max()\n",
    "\n",
    "    seg = np.full(count - 1, (xmax - xmin) / count)\n",
    "\n",
    "    px_init = np.r_[np.r_[xmin, seg].cumsum(), xmax]\n",
    "    py_init = np.array([Y[np.abs(X - x) < (xmax - xmin) * 0.01].mean() for x in px_init])\n",
    "\n",
    "    def func(p):\n",
    "        seg = p[:count - 1]\n",
    "        py = p[count - 1:]\n",
    "        px = np.r_[np.r_[xmin, seg].cumsum(), xmax]\n",
    "        return px, py\n",
    "\n",
    "    def err(p):\n",
    "        px, py = func(p)\n",
    "        Y2 = np.interp(X, px, py)\n",
    "        return np.mean((Y - Y2)**2)\n",
    "\n",
    "    r = optimize.minimize(err, x0=np.r_[seg, py_init], method='Nelder-Mead')\n",
    "    return func(r.x)\n"
   ]
  },
  {
   "cell_type": "code",
   "execution_count": 152,
   "metadata": {},
   "outputs": [],
   "source": [
    "# set font size for labels in matplotlib\n",
    "plt.rcParams.update({'font.size': 14})"
   ]
  },
  {
   "cell_type": "code",
   "execution_count": 153,
   "metadata": {},
   "outputs": [
    {
     "data": {
      "text/html": [
       "<pre style=\"white-space:pre;overflow-x:auto;line-height:normal;font-family:Menlo,'DejaVu Sans Mono',consolas,'Courier New',monospace\"><span style=\"font-weight: bold\">&lt;</span><span style=\"color: #ff00ff; text-decoration-color: #ff00ff; font-weight: bold\">Figure</span><span style=\"color: #000000; text-decoration-color: #000000\"> size 72</span><span style=\"color: #008080; text-decoration-color: #008080; font-weight: bold\">0x720</span><span style=\"color: #000000; text-decoration-color: #000000\"> with </span><span style=\"color: #008080; text-decoration-color: #008080; font-weight: bold\">1</span><span style=\"color: #000000; text-decoration-color: #000000\"> Axes</span><span style=\"font-weight: bold\">&gt;</span>\n",
       "</pre>\n"
      ],
      "text/plain": [
       "\u001b[1m<\u001b[0m\u001b[1;95mFigure\u001b[0m\u001b[39m size 72\u001b[0m\u001b[1;36m0x720\u001b[0m\u001b[39m with \u001b[0m\u001b[1;36m1\u001b[0m\u001b[39m Axes\u001b[0m\u001b[1m>\u001b[0m\n"
      ]
     },
     "metadata": {},
     "output_type": "display_data"
    },
    {
     "data": {
      "image/png": "[encoded data removed]"
     },
     "metadata": {
      "needs_background": "light"
     },
     "output_type": "display_data"
    }
   ],
   "source": [
    "f, ax = plt.subplots(figsize=(10, 10),)\n",
    "\n",
    "\n",
    "durations = []\n",
    "for n, trial in enumerate(range(wt_traces_complete.shape[-1])):\n",
    "    y = wt_traces_complete[1, :, trial]\n",
    "    \n",
    "    # scale y between 0, 1\n",
    "    y = (y - y.min()) / (y.max() - y.min())\n",
    "    \n",
    "\n",
    "    # fit a piece-wise linear curve\n",
    "    px, py = segments_fit(time_frames, y, 3)\n",
    "    if n == 0:\n",
    "        ax.plot(time_frames, y, color=[.3, .3, .3], lw=2, alpha=1, label=\"data\")\n",
    "        ax.plot(px, py, color=indigo, alpha=1, lw=6, label=\"fit\")\n",
    "        ax.scatter(px, py, s=250, lw=4, ec=indigo, fc=\"white\", zorder=100)\n",
    "    durations.append(px[2] - px[1])\n",
    "\n",
    "    # break\n",
    "\n",
    "\n",
    "from pathlib import Path\n",
    "savepath = Path(r\"C:\\Users\\Federico\\Desktop\\forE\")\n",
    "\n",
    "# save figure at savepath\n",
    "ax.legend()\n",
    "ax.set(xlabel=\"Time (frames)\", ylabel=\"Body weight (norm.)\")\n",
    "clean_axes(f)\n",
    "f.savefig(savepath / f\"apa_duration_piecewisefit_example_condition_{CONDITION}_strain_{STRAIN}.png\", dpi=300)\n"
   ]
  },
  {
   "cell_type": "markdown",
   "metadata": {},
   "source": [
    "### plot durations"
   ]
  },
  {
   "cell_type": "code",
   "execution_count": 154,
   "metadata": {},
   "outputs": [
    {
     "name": "stdout",
     "output_type": "stream",
     "text": [
      "low -21723.833 ms high 205.021 ms, mean -3855.105 ms, median 81.617 ms, std: 12533.900 ms\n"
     ]
    },
    {
     "data": {
      "text/html": [
       "<pre style=\"white-space:pre;overflow-x:auto;line-height:normal;font-family:Menlo,'DejaVu Sans Mono',consolas,'Courier New',monospace\"><span style=\"font-weight: bold\">&lt;</span><span style=\"color: #ff00ff; text-decoration-color: #ff00ff; font-weight: bold\">Figure</span><span style=\"color: #000000; text-decoration-color: #000000\"> size 1152x648 with </span><span style=\"color: #008080; text-decoration-color: #008080; font-weight: bold\">1</span><span style=\"color: #000000; text-decoration-color: #000000\"> Axes</span><span style=\"font-weight: bold\">&gt;</span>\n",
       "</pre>\n"
      ],
      "text/plain": [
       "\u001b[1m<\u001b[0m\u001b[1;95mFigure\u001b[0m\u001b[39m size 1152x648 with \u001b[0m\u001b[1;36m1\u001b[0m\u001b[39m Axes\u001b[0m\u001b[1m>\u001b[0m\n"
      ]
     },
     "metadata": {},
     "output_type": "display_data"
    },
    {
     "data": {
      "image/png": "[encoded data removed]"
     },
     "metadata": {
      "needs_background": "light"
     },
     "output_type": "display_data"
    }
   ],
   "source": [
    "plt.rcParams.update({'font.size': 18})\n",
    "f, ax = plt.subplots(figsize=(16, 9))\n",
    "\n",
    "durations_ms = [frame2ms(d) for d in durations]\n",
    "\n",
    "low, high = np.percentile(durations_ms, [5, 95])\n",
    "print(f\"low {low:.3f} ms high {high:.3f} ms, mean {np.mean(durations_ms):.3f} ms, median {np.median(durations_ms):.3f} ms, std: {np.std(durations_ms):.3f} ms\")\n",
    "\n",
    "ax.hist(durations_ms, bins=15, color=indigo)\n",
    "ax.plot([low, high], [-.5, -.5], \"-\", color=indigo, lw=4)\n",
    "ax.scatter(np.median(durations_ms), -.5, color=\"white\", lw=4, ec=indigo, zorder=100,  s=150)\n",
    "\n",
    "_ = ax.set(xlabel=\"duration (frames)\", ylabel=\"count\", title=\"APA duration\")\n",
    "\n",
    "clean_axes(f)\n",
    "f.savefig(savepath / f\"apa_duration_distribution_{CONDITION}_strain_{STRAIN}.png\", dpi=500)\n"
   ]
  },
  {
   "cell_type": "code",
   "execution_count": null,
   "metadata": {},
   "outputs": [],
   "source": []
  }
 ],
 "metadata": {
  "kernelspec": {
   "display_name": "Python 3.8.0 ('glm')",
   "language": "python",
   "name": "python3"
  },
  "language_info": {
   "codemirror_mode": {
    "name": "ipython",
    "version": 3
   },
   "file_extension": ".py",
   "mimetype": "text/x-python",
   "name": "python",
   "nbconvert_exporter": "python",
   "pygments_lexer": "ipython3",
   "version": "3.8.0"
  },
  "orig_nbformat": 4,
  "vscode": {
   "interpreter": {
    "hash": "150ed04e4a7757279df9e34a7668d32a4de2f602328bc7aa115cd7824ea88d27"
   }
  }
 },
 "nbformat": 4,
 "nbformat_minor": 2
}
